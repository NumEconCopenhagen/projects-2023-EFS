{
 "cells": [
  {
   "cell_type": "markdown",
   "metadata": {},
   "source": [
    "# Inaugural Project"
   ]
  },
  {
   "attachments": {},
   "cell_type": "markdown",
   "metadata": {},
   "source": [
    "> **Note the following:** \n",
    "> 1. This is an example of how to structure your **inaugural project**.\n",
    "> 1. Remember the general advice on structuring and commenting your code\n",
    "> 1. The `inauguralproject.py` file includes a function which can be used multiple times in this notebook."
   ]
  },
  {
   "cell_type": "markdown",
   "metadata": {},
   "source": [
    "Imports and set magics:"
   ]
  },
  {
   "cell_type": "code",
   "execution_count": 1,
   "metadata": {},
   "outputs": [],
   "source": [
    "import numpy as np\n",
    "\n",
    "# Autoreload modules\n",
    "%load_ext autoreload\n",
    "%autoreload 2\n",
    "\n",
    "# Model class\n",
    "from HSM import HSMC\n",
    "\n",
    "# Matplotlib \n",
    "%matplotlib inline\n",
    "from mpl_toolkits.mplot3d import Axes3D # Used implictely when doing 3D plots\n",
    "import matplotlib.pyplot as plt # baseline module\n",
    "\n",
    "# Predefine options for all plots\n",
    "plt.rcParams.update({\"axes.grid\":True,\"grid.color\":\"black\",\"grid.alpha\":\"0.25\",\"grid.linestyle\":\"-\"})\n",
    "plt.rcParams.update({'font.size': 14})\n"
   ]
  },
  {
   "cell_type": "code",
   "execution_count": 2,
   "metadata": {},
   "outputs": [],
   "source": [
    "model = HSMC()"
   ]
  },
  {
   "attachments": {},
   "cell_type": "markdown",
   "metadata": {},
   "source": [
    "# Question 1: alternative 1"
   ]
  },
  {
   "attachments": {},
   "cell_type": "markdown",
   "metadata": {},
   "source": [
    "We modified the HSM_Stefano class so that it now has a new function called \"HF_on_HM_table\" that takes as attribute vectors of values and plots a table with values of $H_F/H_M$ for every combination of values of $\\sigma$ and $\\alpha$.\n",
    "One major addition to the class module is the definition of the total value of home production consumption so taht now can take different functional forms depending on the value of $\\sigma$."
   ]
  },
  {
   "cell_type": "code",
   "execution_count": 3,
   "metadata": {},
   "outputs": [
    {
     "name": "stderr",
     "output_type": "stream",
     "text": [
      "c:\\Users\\aske9\\Downloads\\projects-2023-frederikke_vigh\\projects-2023-frederikke_vigh\\inauguralproject\\HSM.py:62: RuntimeWarning: divide by zero encountered in reciprocal\n",
      "  H = ((1-par.alpha)*HM**((par.sigma-1)/par.sigma)+par.alpha*HF**((par.sigma-1)/par.sigma))**(par.sigma/(par.sigma-1))\n"
     ]
    },
    {
     "name": "stdout",
     "output_type": "stream",
     "text": [
      "a|s    0.50  1.00  1.50  \n",
      "0.25  0.545 0.308 0.214\n",
      "0.50  1.000 1.000 1.000\n",
      "0.75  1.833 3.250 4.667\n"
     ]
    }
   ],
   "source": [
    "# Illustrates changes in optimal HF/HM for values of alpha & sigma\n",
    "\n",
    "alpha_val=[0.25,0.50,0.75]\n",
    "sigma_val=[0.5,1.0,1.5]\n",
    "model.tableHFHM(alpha_val,sigma_val)\n",
    "\n",
    "# Problems:\n",
    "# - takes approx 20 sec to run\n",
    "# - Runtime warnings to debug\n",
    "# - Values changed from last time!\n"
   ]
  },
  {
   "cell_type": "markdown",
   "metadata": {},
   "source": [
    "# Question 1: alternative 2"
   ]
  },
  {
   "attachments": {},
   "cell_type": "markdown",
   "metadata": {},
   "source": [
    "We used a loop to running on the values $\\sigma$ and $\\alpha$ contained into two different vectors to return a new array containing the values of $H_F/H_M$ corresponding to each combination of $\\sigma$ and $\\alpha$ values.\n",
    "The code is defined outside the class; no changes have been made at the class module beside expanding it to take different values of sigma."
   ]
  },
  {
   "cell_type": "code",
   "execution_count": 4,
   "metadata": {},
   "outputs": [
    {
     "name": "stdout",
     "output_type": "stream",
     "text": [
      "[0.5454545454545454, 0.3076923076923077, 0.21428571428571427, 1.0, 1.0, 1.0, 1.8333333333333333, 3.25, 4.666666666666667]\n"
     ]
    }
   ],
   "source": [
    "alpha_val=[0.25,0.50,0.75]\n",
    "sigma_val=[0.5,1.0,1.5]\n",
    "\n",
    "# loop to make table\n",
    "\n",
    "ratio_HF_HM=[]\n",
    "for alpha in alpha_val:\n",
    "    for sigma in sigma_val:\n",
    "        model.par.alpha = alpha\n",
    "        model.par.sigma = sigma\n",
    "        result = model.solve_discrete()\n",
    "        ratio_HF_HM.append(result.HF/result.HM)\n",
    "print(ratio_HF_HM)\n",
    "\n",
    "# To be done: \n",
    "#   a. plotting table or graph from results\n",
    "#   b. define it as a function stored in a separate .py file"
   ]
  },
  {
   "attachments": {},
   "cell_type": "markdown",
   "metadata": {},
   "source": [
    "**To Sum Up:**\n",
    "\n",
    "Alternative 1 and 2 are practically the same. The only difference is that 1 runs inside the class and returns the values directly as a table, while 2 runs outside the class and returns the values as an array.\n",
    "\n",
    "I think alternative 2 could be better because:\n",
    "- Does not overload the class module;\n",
    "- Return in array form could be useful.\n",
    "\n",
    "We must make the appropriate changes to plot the result as table and to make it a function, stored in a separate file."
   ]
  },
  {
   "attachments": {},
   "cell_type": "markdown",
   "metadata": {},
   "source": [
    "# Question 2:"
   ]
  },
  {
   "cell_type": "markdown",
   "metadata": {},
   "source": [
    "Easier than alternative 1, practically equal to solution to question 1, just different inputs and outputs"
   ]
  },
  {
   "cell_type": "code",
   "execution_count": 5,
   "metadata": {},
   "outputs": [
    {
     "data": {
      "text/plain": [
       "<Figure size 432x288 with 0 Axes>"
      ]
     },
     "metadata": {},
     "output_type": "display_data"
    },
    {
     "data": {
      "image/png": "[encoded data removed]",
      "text/plain": [
       "<Figure size 720x360 with 1 Axes>"
      ]
     },
     "metadata": {
      "needs_background": "light"
     },
     "output_type": "display_data"
    }
   ],
   "source": [
    "# Idea: solving as a class function using sol_wf_vec\n",
    "model.par.sigma = 1\n",
    "model.par.alpha = 0.5\n",
    "X, Y = model.solve_wF_vec(discrete=True)\n",
    "\n",
    "plt.figure()\n",
    "plt.figure(figsize=(10,5))\n",
    "\n",
    "plt.plot(X, Y)\n",
    "plt.title('Change in '+r'$log\\ \\frac{H_F}{H_M}$' + ' against ' + r'$\\log \\frac{w_F}{w_M}$')\n",
    "plt.xlabel(r'$\\log\\ \\frac{w_F}{w_M}$')\n",
    "plt.ylabel(r'$\\log\\ \\frac{H_F}{H_M}$')\n",
    "plt.show()\n",
    "\n",
    "# Problems:\n",
    "# - Graph changes unespectedly after modifications\n",
    "# - Graph is strange: right economic intuition ?\n",
    "# - Runtime warning to debug"
   ]
  },
  {
   "attachments": {},
   "cell_type": "markdown",
   "metadata": {},
   "source": [
    "# Question 3"
   ]
  },
  {
   "cell_type": "code",
   "execution_count": 6,
   "metadata": {},
   "outputs": [
    {
     "data": {
      "text/plain": [
       "<Figure size 432x288 with 0 Axes>"
      ]
     },
     "metadata": {},
     "output_type": "display_data"
    },
    {
     "data": {
      "image/png": "[encoded data removed]",
      "text/plain": [
       "<Figure size 720x360 with 1 Axes>"
      ]
     },
     "metadata": {
      "needs_background": "light"
     },
     "output_type": "display_data"
    }
   ],
   "source": [
    "model.par.sigma = 1\n",
    "model.par.alpha = 0.5\n",
    "X, Y = model.solve_wF_vec(discrete=False)\n",
    "\n",
    "plt.figure()\n",
    "plt.figure(figsize=(10,5))\n",
    "\n",
    "plt.plot(X, Y)\n",
    "plt.title('Change in '+r'$log\\ \\frac{H_F}{H_M}$' + ' against ' + r'$\\log \\frac{w_F}{w_M}$')\n",
    "plt.xlabel(r'$\\log\\ \\frac{w_F}{w_M}$')\n",
    "plt.ylabel(r'$\\log\\ \\frac{H_F}{H_M}$')\n",
    "plt.show()"
   ]
  },
  {
   "attachments": {},
   "cell_type": "markdown",
   "metadata": {},
   "source": [
    "## To do: \n",
    "- Check consistency of results with economic intuition from model\n",
    "- Understand why question 2's graph changed\n",
    "- Complete comments and documentation on code"
   ]
  },
  {
   "cell_type": "markdown",
   "metadata": {},
   "source": [
    "ADD CONCISE CONLUSION."
   ]
  },
  {
   "attachments": {},
   "cell_type": "markdown",
   "metadata": {},
   "source": [
    "##QUESTION 4"
   ]
  },
  {
   "cell_type": "code",
   "execution_count": 9,
   "metadata": {},
   "outputs": [
    {
     "name": "stdout",
     "output_type": "stream",
     "text": [
      "alpha =  0.831879614467073\n",
      "sigma =  0.08939081219694392\n"
     ]
    }
   ],
   "source": [
    "from HSM import HSMC\n",
    "\n",
    "model.estimate()\n"
   ]
  }
 ],
 "metadata": {
  "kernelspec": {
   "display_name": "base",
   "language": "python",
   "name": "python3"
  },
  "language_info": {
   "codemirror_mode": {
    "name": "ipython",
    "version": 3
   },
   "file_extension": ".py",
   "mimetype": "text/x-python",
   "name": "python",
   "nbconvert_exporter": "python",
   "pygments_lexer": "ipython3",
   "version": "3.8.8"
  },
  "toc-autonumbering": true,
  "vscode": {
   "interpreter": {
    "hash": "47ef90cdf3004d3f859f1fb202523c65c07ba7c22eefd261b181f4744e2d0403"
   }
  }
 },
 "nbformat": 4,
 "nbformat_minor": 4
}
