{
 "cells": [
  {
   "cell_type": "markdown",
   "metadata": {},
   "source": [
    "# Inaugural Project"
   ]
  },
  {
   "attachments": {},
   "cell_type": "markdown",
   "metadata": {},
   "source": [
    "> **Note the following:** \n",
    "> 1. This is an example of how to structure your **inaugural project**.\n",
    "> 1. Remember the general advice on structuring and commenting your code\n",
    "> 1. The `inauguralproject.py` file includes a function which can be used multiple times in this notebook."
   ]
  },
  {
   "cell_type": "markdown",
   "metadata": {},
   "source": [
    "Imports and set magics:"
   ]
  },
  {
   "cell_type": "code",
   "execution_count": 9,
   "metadata": {},
   "outputs": [
    {
     "name": "stdout",
     "output_type": "stream",
     "text": [
      "The autoreload extension is already loaded. To reload it, use:\n",
      "  %reload_ext autoreload\n"
     ]
    },
    {
     "ename": "IndentationError",
     "evalue": "unindent does not match any outer indentation level (HSM.py, line 159)",
     "output_type": "error",
     "traceback": [
      "Traceback \u001b[0;36m(most recent call last)\u001b[0m:\n",
      "  File \u001b[1;32m\"/Users/frederikke/opt/anaconda3/lib/python3.9/site-packages/IPython/core/interactiveshell.py\"\u001b[0m, line \u001b[1;32m3457\u001b[0m, in \u001b[1;35mrun_code\u001b[0m\n    exec(code_obj, self.user_global_ns, self.user_ns)\n",
      "\u001b[0;36m  File \u001b[0;32m\"/var/folders/qp/ffp0pgv95z31s9m_l5n7q4y00000gn/T/ipykernel_19333/2608089706.py\"\u001b[0;36m, line \u001b[0;32m8\u001b[0;36m, in \u001b[0;35m<module>\u001b[0;36m\u001b[0m\n\u001b[0;31m    from HSM import HSMC\u001b[0m\n",
      "\u001b[0;36m  File \u001b[0;32m\"/Users/frederikke/Desktop/pro/projects-2023-frederikke_vigh/inauguralproject/HSM.py\"\u001b[0;36m, line \u001b[0;32m159\u001b[0m\n\u001b[0;31m    for i, x in enumerate(par.wF_vec):\u001b[0m\n\u001b[0m                                      ^\u001b[0m\n\u001b[0;31mIndentationError\u001b[0m\u001b[0;31m:\u001b[0m unindent does not match any outer indentation level\n"
     ]
    }
   ],
   "source": [
    "import numpy as np\n",
    "\n",
    "# Autoreload modules\n",
    "%load_ext autoreload\n",
    "%autoreload 2\n",
    "\n",
    "# Model class\n",
    "from HSM import HSMC\n",
    "\n",
    "# Matplotlib \n",
    "%matplotlib inline\n",
    "from mpl_toolkits.mplot3d import Axes3D # Used implictely when doing 3D plots\n",
    "import matplotlib.pyplot as plt # baseline module\n",
    "\n",
    "# Predefine options for all plots\n",
    "plt.rcParams.update({\"axes.grid\":True,\"grid.color\":\"black\",\"grid.alpha\":\"0.25\",\"grid.linestyle\":\"-\"})\n",
    "plt.rcParams.update({'font.size': 14})\n"
   ]
  },
  {
   "cell_type": "code",
   "execution_count": null,
   "metadata": {},
   "outputs": [],
   "source": [
    "model = HSMC()"
   ]
  },
  {
   "attachments": {},
   "cell_type": "markdown",
   "metadata": {},
   "source": [
    "# Question 1: alternative 1"
   ]
  },
  {
   "attachments": {},
   "cell_type": "markdown",
   "metadata": {},
   "source": [
    "We modified the HSM_Stefano class so that it now has a new function called \"HF_on_HM_table\" that takes as attribute vectors of values and plots a table with values of $H_F/H_M$ for every combination of values of $\\sigma$ and $\\alpha$.\n",
    "One major addition to the class module is the definition of the total value of home production consumption so taht now can take different functional forms depending on the value of $\\sigma$."
   ]
  },
  {
   "cell_type": "code",
   "execution_count": null,
   "metadata": {},
   "outputs": [],
   "source": [
    "# Illustrates changes in optimal HF/HM for values of alpha & sigma\n",
    "\n",
    "alpha_val=[0.25,0.50,0.75]\n",
    "sigma_val=[0.5,1.0,1.5]\n",
    "model.tableHFHM(alpha_val,sigma_val)\n",
    "\n",
    "# Problems:\n",
    "# - takes approx 20 sec to run\n",
    "# - Runtime warnings to debug\n",
    "# - Values changed from last time!\n"
   ]
  },
  {
   "cell_type": "markdown",
   "metadata": {},
   "source": [
    "# Question 1: alternative 2"
   ]
  },
  {
   "attachments": {},
   "cell_type": "markdown",
   "metadata": {},
   "source": [
    "We used a loop to running on the values $\\sigma$ and $\\alpha$ contained into two different vectors to return a new array containing the values of $H_F/H_M$ corresponding to each combination of $\\sigma$ and $\\alpha$ values.\n",
    "The code is defined outside the class; no changes have been made at the class module beside expanding it to take different values of sigma."
   ]
  },
  {
   "cell_type": "code",
   "execution_count": null,
   "metadata": {},
   "outputs": [],
   "source": [
    "alpha_val=[0.25,0.50,0.75]\n",
    "sigma_val=[0.5,1.0,1.5]\n",
    "\n",
    "# loop to make table\n",
    "\n",
    "ratio_HF_HM=[]\n",
    "for alpha in alpha_val:\n",
    "    for sigma in sigma_val:\n",
    "        model.par.alpha = alpha\n",
    "        model.par.sigma = sigma\n",
    "        result = model.solve_discrete()\n",
    "        ratio_HF_HM.append(result.HF/result.HM)\n",
    "print(ratio_HF_HM)\n",
    "\n",
    "# To be done: \n",
    "#   a. plotting table or graph from results\n",
    "#   b. define it as a function stored in a separate .py file"
   ]
  },
  {
   "attachments": {},
   "cell_type": "markdown",
   "metadata": {},
   "source": [
    "**To Sum Up:**\n",
    "\n",
    "Alternative 1 and 2 are practically the same. The only difference is that 1 runs inside the class and returns the values directly as a table, while 2 runs outside the class and returns the values as an array.\n",
    "\n",
    "I think alternative 2 could be better because:\n",
    "- Does not overload the class module;\n",
    "- Return in array form could be useful.\n",
    "\n",
    "We must make the appropriate changes to plot the result as table and to make it a function, stored in a separate file."
   ]
  },
  {
   "attachments": {},
   "cell_type": "markdown",
   "metadata": {},
   "source": [
    "# Question 2:"
   ]
  },
  {
   "cell_type": "markdown",
   "metadata": {},
   "source": [
    "Easier than alternative 1, practically equal to solution to question 1, just different inputs and outputs"
   ]
  },
  {
   "cell_type": "code",
   "execution_count": null,
   "metadata": {},
   "outputs": [],
   "source": [
    "# Idea: solving as a class function using sol_wf_vec\n",
    "model.par.sigma = 1\n",
    "model.par.alpha = 0.5\n",
    "X, Y = model.solve_wF_vec(discrete=True)\n",
    "\n",
    "plt.figure()\n",
    "plt.figure(figsize=(10,5))\n",
    "\n",
    "plt.plot(X, Y)\n",
    "plt.title('Change in '+r'$log\\ \\frac{H_F}{H_M}$' + ' against ' + r'$\\log \\frac{w_F}{w_M}$')\n",
    "plt.xlabel(r'$\\log\\ \\frac{w_F}{w_M}$')\n",
    "plt.ylabel(r'$\\log\\ \\frac{H_F}{H_M}$')\n",
    "plt.show()\n",
    "# Problems:\n",
    "# - Graph changes unespectedly after modifications\n",
    "# - Graph is strange: right economic intuition ?\n",
    "# - Runtime warning to debug"
   ]
  },
  {
   "attachments": {},
   "cell_type": "markdown",
   "metadata": {},
   "source": [
    "# Question 3"
   ]
  },
  {
   "cell_type": "code",
   "execution_count": null,
   "metadata": {},
   "outputs": [],
   "source": [
    "model.solve_wF_vec()"
   ]
  },
  {
   "attachments": {},
   "cell_type": "markdown",
   "metadata": {},
   "source": [
    "## To do: \n",
    "- Check consistency of results with economic intuition from model\n",
    "- Understand why question 2's graph changed\n",
    "- Complete comments and documentation on code"
   ]
  },
  {
   "cell_type": "markdown",
   "metadata": {},
   "source": [
    "ADD CONCISE CONLUSION."
   ]
  }
 ],
 "metadata": {
  "kernelspec": {
   "display_name": "base",
   "language": "python",
   "name": "python3"
  },
  "language_info": {
   "codemirror_mode": {
    "name": "ipython",
    "version": 3
   },
   "file_extension": ".py",
   "mimetype": "text/x-python",
   "name": "python",
   "nbconvert_exporter": "python",
   "pygments_lexer": "ipython3",
   "version": "3.9.13"
  },
  "toc-autonumbering": true,
  "vscode": {
   "interpreter": {
    "hash": "3636dfe3e3efced5924147eaeab8fa7e5204e27b435464fa03fa25953d53415b"
   }
  }
 },
 "nbformat": 4,
 "nbformat_minor": 4
}
