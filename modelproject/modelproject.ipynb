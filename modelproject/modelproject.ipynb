{
 "cells": [
  {
   "attachments": {},
   "cell_type": "markdown",
   "metadata": {},
   "source": [
    "# Overlapping Generation Model"
   ]
  },
  {
   "attachments": {},
   "cell_type": "markdown",
   "metadata": {},
   "source": [
    "> **Note the following:** \n",
    "> 1. This is *not* meant to be an example of an actual **model analysis project**, just an example of how to structure such a project.\n",
    "> 1. Remember the general advice on structuring and commenting your code\n",
    "> 1. The `modelproject.py` file includes a function which could be used multiple times in this notebook."
   ]
  },
  {
   "cell_type": "markdown",
   "metadata": {},
   "source": [
    "Imports and set magics:"
   ]
  },
  {
   "cell_type": "code",
   "execution_count": 1,
   "metadata": {},
   "outputs": [],
   "source": [
    "import numpy as np\n",
    "from scipy import optimize\n",
    "import sympy as sm\n",
    "import time\n",
    "\n",
    "# autoreload modules when code is run\n",
    "%load_ext autoreload\n",
    "%autoreload 2\n",
    "\n",
    "# plotting\n",
    "import matplotlib.pyplot as plt\n",
    "plt.style.use('seaborn-whitegrid')\n",
    "plt.rcParams.update({'font.size': 12})\n",
    "\n",
    "# local modules\n",
    "from modelproject import OLG"
   ]
  },
  {
   "cell_type": "markdown",
   "metadata": {},
   "source": [
    "# Model description"
   ]
  },
  {
   "attachments": {},
   "cell_type": "markdown",
   "metadata": {},
   "source": [
    "The economy is a **closed** economy in descrete **time**, $t\\in\\{0,1,2,\\dots\\ , \\infty\\}$.\n",
    "\n",
    "The economey has two types of **agents**, households and firms. The households are divided into **two generations**. The young generation which are working, $L_{t}$ and the the old generation whcih lives of their pension, $L_{t-1}$. \n",
    "\n",
    "**The population** has a growth rate $n>-1$\n",
    "\n",
    "$$\n",
    "\\begin{aligned}\n",
    "L_{t} = L_{t-1}(1+n)\n",
    "\\end{aligned}\n",
    "$$\n",
    "\n",
    "**Households:** The young generation pays takes thorugh their wage and therefore earns $(1-\\tau_w)w_{t}$. The young consume a share of their wage which is denoted to $C_{1t}$ and the rest the save, $s_t\\in[0,1]$. The old generation earns returns on their savings, $(1-\\tau_{r})r_{t+1}$, and their consumption is denoted as $C_{2t+1}$. The households maximize their utility thorugh following **utillity** function:\n",
    "\n",
    "$$\n",
    "\\begin{aligned}\n",
    "U & =\\max_{s_{t}\\in[0,1]}\\frac{C_{1t}^{1-\\sigma}}{1-\\sigma}+\\beta\\frac{C_{1t+1}^{1-\\sigma}}{1-\\sigma},\\,\\,\\,\\beta > -1, \\sigma > 0\\\\\n",
    " & \\text{s.t.}\\\\\n",
    " & S_{t}=s_{t}(1-\\tau_{w})w_{t}\\\\\n",
    " & C_{1t}=(1-s_{t})(1-\\tau_{w})w_{t}\\\\\n",
    " & C_{2t+1}=(1+(1-\\tau_{r})r_{t+1})S_{t}\n",
    "\\end{aligned}\n",
    "$$"
   ]
  },
  {
   "attachments": {},
   "cell_type": "markdown",
   "metadata": {},
   "source": [
    "**Firms:** The firms hire labor, $L_t$, to a wage, $w_{t}$, and rent capital $K_{t-1}$ at the rental rate $r_{t}^{K}$. The firms maximize their profit and has following production function:\n",
    "\n",
    "$$\n",
    "\\begin{aligned}\n",
    "Y_{t}=F(K_{t-1},L_{t})=(\\alpha K_{t-1}^{-\\theta}+(1-\\alpha)L_{t}^{-\\theta})^{\\frac{1}{-\\theta}},\\,\\,\\,\\theta>-1,\\alpha\\in(0,1)\n",
    "\\end{aligned}\n",
    "$$\n",
    "    \n",
    "Profits are\n",
    "    \n",
    "$$\n",
    "\\begin{aligned}\n",
    "\\Pi_{t}=Y_{t}-w_{t}L_{t}-r_{t}^{K}K_{t-1}\n",
    "\\end{aligned}\n",
    "$$\n"
   ]
  },
  {
   "attachments": {},
   "cell_type": "markdown",
   "metadata": {},
   "source": [
    "**Government:** The goverment is donoted as, $G_{t}$, and issues tax rates $\\tau_w \\in [0,1]$ and $\\tau_r \\in [0,1]$. The total tax revenue can be described as:\n",
    "    \n",
    "$$\n",
    "\\begin{aligned}\n",
    "T_{t} &=\\tau_r r_{t} (K_{t-1}+B_{t-1})+\\tau_w w_{t}N_t   \n",
    "\\end{aligned}\n",
    "$$\n",
    "    \n",
    "It is possible for the government to obtain debt which accumulates according to:\n",
    "    \n",
    "$$\n",
    "\\begin{aligned}\n",
    "B_{t} &=(1+r^b_{t})B_{t-1}-T_{t}+G_{t} \n",
    "\\end{aligned}\n",
    "$$\n",
    "       \n",
    "For the budget to balance out following needs to imply: $G_{t}=T_{t}-r_{t}B_{t-1}$."
   ]
  },
  {
   "attachments": {},
   "cell_type": "markdown",
   "metadata": {},
   "source": [
    "**Note** that all capital depreciates with a rate of $\\delta \\in [0,1]$."
   ]
  },
  {
   "attachments": {},
   "cell_type": "markdown",
   "metadata": {},
   "source": [
    "**Equilibrium:**\n",
    "\n",
    "1. Households maximize utility\n",
    "2. Firms maximize profits\n",
    "3. No-arbitrage between bonds and capital\n",
    "\n",
    "    $$\n",
    "    r_{t}=r_{t}^{K}-\\delta=r_{t}^{b}\n",
    "    $$\n",
    "\n",
    "4. Labor market clears: $N_{t}=L_{t}=1$\n",
    "5. Goods market clears: $Y_{t}=C_{1t}+C_{2t}+G_{t}+I_{t}$\n",
    "6. Asset market clears: $S_{t}=K_{t}+B_{t}$\n",
    "7. Capital follows its law of motion: $K_{t}=(1-\\delta)K_{t-1}+I_{t}$"
   ]
  },
  {
   "cell_type": "markdown",
   "metadata": {},
   "source": [
    "## Analytical solution"
   ]
  },
  {
   "attachments": {},
   "cell_type": "markdown",
   "metadata": {},
   "source": [
    "**Implication of profit maximization:** From FOCs\n",
    "\n",
    "$$\n",
    "\\begin{aligned}\n",
    "r_{t}^{k} & =F_{K}(K_{t-1},L_{t})=\\alpha K_{t-1}^{-\\theta-1}Y_{t}^{1+\\theta}\\\\\n",
    "w_{t} & =F_{E}(K_{t-1},L_{t})=(1-\\alpha)L_{t}^{-\\theta-1}Y_{t}^{1+\\theta}\n",
    "\\end{aligned}\n",
    "$$\n",
    "\n",
    "**Implication of utility maximization:** From FOC\n",
    "\n",
    "$$\n",
    "\\begin{aligned}\n",
    "C_{1t}^{-\\sigma}=\\beta (1+(1-\\tau_r)r_{t+1})C_{2t+1}^{-\\sigma}\n",
    "\\end{aligned}\n",
    "$$"
   ]
  },
  {
   "attachments": {},
   "cell_type": "markdown",
   "metadata": {},
   "source": [
    "**Simulation algorithm:** At the beginning of period $t$, the\n",
    "economy can be summarized in the state variables $K_{t-1}$ and $B_{t-1}$.  *Before* $s_t$ is known, we can calculate:\n",
    "\n",
    "$$\n",
    "\\begin{aligned}\n",
    "Y_{t} & =F(K_{t-1},1)\\\\\n",
    "r_{t}^{k} & =F_{K}(K_{t-1},1)\\\\\n",
    "w_{t} & =F_{E}(K_{t-1},1)\\\\\n",
    "r_{t} & =r^k_{t}-\\delta\\\\\n",
    "r_{t}^{b} & =r_{t}\\\\\n",
    "\\tilde{r}_{t} & =(1-\\tau_{r})r_{t}\\\\\n",
    "C_{2t} & =(1+\\tilde{r}_{t})(K_{t-1}+B_{t-1})\\\\\n",
    "T_{t} & =\\tau_{r}r_{t}(K_{t-1}+B_{t-1})+\\tau_{w}w_{t}\\\\\n",
    "B_{t} & =(1+r^b_{t})B_{t-1}+T_{t}-G_{t}\\\\\n",
    "*** L_{t} & = L_{t-1}(1+n) ****\n",
    "\\end{aligned}\n",
    "$$\n",
    "\n",
    "*After* $s_t$ is known we can calculate:\n",
    "\n",
    "$$\n",
    "\\begin{aligned}\n",
    "C_{1t} & = (1-s_{t})(1-\\tau_{w})w_{t}\\\\\n",
    "I_{t} & =Y_{t}-C_{1t}-C_{2t}-G_{t}\\\\\n",
    "K_{t} & =(1-\\delta)K_{t-1} + I_t\n",
    "\\end{aligned}\n",
    "$$"
   ]
  },
  {
   "cell_type": "markdown",
   "metadata": {},
   "source": [
    "If your model allows for an analytical solution, you should provide here.\n",
    "\n",
    "You may use Sympy for this. Then you can characterize the solution as a function of a parameter of the model.\n",
    "\n",
    "To characterize the solution, first derive a steady state equation as a function of a parameter using Sympy.solve and then turn it into a python function by Sympy.lambdify. See the lecture notes for details. "
   ]
  },
  {
   "cell_type": "markdown",
   "metadata": {},
   "source": [
    "## Numerical solution"
   ]
  },
  {
   "cell_type": "markdown",
   "metadata": {},
   "source": [
    "You can always solve a model numerically. \n",
    "\n",
    "Define first the set of parameters you need. \n",
    "\n",
    "Then choose one of the optimization algorithms that we have gone through in the lectures based on what you think is most fitting for your model.\n",
    "\n",
    "Are there any problems with convergence? Does the model converge for all starting values? Make a lot of testing to figure these things out. "
   ]
  },
  {
   "cell_type": "code",
   "execution_count": 2,
   "metadata": {},
   "outputs": [
    {
     "name": "stdout",
     "output_type": "stream",
     "text": [
      "initializing the model:\n",
      "calling .setup()\n",
      "calling .allocate()\n",
      "simulation done in 0.09 secs\n"
     ]
    }
   ],
   "source": [
    "model = OLG()\n",
    "par = model.par # SimpeNamespace\n",
    "sim = model.sim # SimpeNamespace\n",
    "\n",
    "# a. production\n",
    "par.production_function = 'cobb-douglas'\n",
    "par.theta = 0.0\n",
    "\n",
    "# b. households\n",
    "par.sigma = 1.0\n",
    "\n",
    "# c. government\n",
    "par.tau_w = 0.0\n",
    "par.tau_r = 0.0\n",
    "sim.balanced_budget[:] = True # G changes to achieve this\n",
    "\n",
    "# d. initial values\n",
    "K_ss = ((1-par.alpha)/((1+1.0/par.beta)))**(1/(1-par.alpha))\n",
    "par.K_lag_ini = 0.1*K_ss\n",
    "\n",
    "# e. simulating the model\n",
    "model.simulate()"
   ]
  },
  {
   "cell_type": "code",
   "execution_count": 3,
   "metadata": {},
   "outputs": [
    {
     "ename": "NameError",
     "evalue": "name 'plot_K' is not defined",
     "output_type": "error",
     "traceback": [
      "\u001b[0;31m---------------------------------------------------------------------------\u001b[0m",
      "\u001b[0;31mNameError\u001b[0m                                 Traceback (most recent call last)",
      "\u001b[0;32m/var/folders/y6/0b4j6twx215bnbzms8thz3y40000gn/T/ipykernel_928/3197106218.py\u001b[0m in \u001b[0;36m<module>\u001b[0;34m\u001b[0m\n\u001b[1;32m      1\u001b[0m \u001b[0;31m# plotting the model for k_{t-1}\u001b[0m\u001b[0;34m\u001b[0m\u001b[0;34m\u001b[0m\u001b[0m\n\u001b[1;32m      2\u001b[0m \u001b[0;34m\u001b[0m\u001b[0m\n\u001b[0;32m----> 3\u001b[0;31m \u001b[0mplot_K\u001b[0m\u001b[0;34m(\u001b[0m\u001b[0mmodel\u001b[0m\u001b[0;34m.\u001b[0m\u001b[0msim\u001b[0m\u001b[0;34m.\u001b[0m\u001b[0mK_lag\u001b[0m\u001b[0;34m,\u001b[0m \u001b[0mK_ss\u001b[0m \u001b[0;34m=\u001b[0m \u001b[0mK_analytical\u001b[0m\u001b[0;34m)\u001b[0m\u001b[0;34m\u001b[0m\u001b[0;34m\u001b[0m\u001b[0m\n\u001b[0m",
      "\u001b[0;31mNameError\u001b[0m: name 'plot_K' is not defined"
     ]
    }
   ],
   "source": [
    "# plotting the model for k_{t-1}\n",
    "\n",
    "plot_K(model.sim.K_lag, K_ss = K_analytical)"
   ]
  },
  {
   "cell_type": "markdown",
   "metadata": {},
   "source": [
    "# Further analysis"
   ]
  },
  {
   "cell_type": "markdown",
   "metadata": {},
   "source": [
    "Make detailed vizualizations of how your model changes with parameter values. \n",
    "\n",
    "Try to make an extension of the model. "
   ]
  },
  {
   "cell_type": "markdown",
   "metadata": {},
   "source": [
    "# Conclusion"
   ]
  },
  {
   "cell_type": "markdown",
   "metadata": {},
   "source": [
    "Add concise conclusion. "
   ]
  },
  {
   "attachments": {},
   "cell_type": "markdown",
   "metadata": {},
   "source": [
    "# To Do:\n",
    "\n",
    "- under simulation algorithm: should the equation for population be written on a different form?"
   ]
  }
 ],
 "metadata": {
  "kernelspec": {
   "display_name": "base",
   "language": "python",
   "name": "python3"
  },
  "language_info": {
   "codemirror_mode": {
    "name": "ipython",
    "version": 3
   },
   "file_extension": ".py",
   "mimetype": "text/x-python",
   "name": "python",
   "nbconvert_exporter": "python",
   "pygments_lexer": "ipython3",
   "version": "3.9.13"
  },
  "toc-autonumbering": true,
  "vscode": {
   "interpreter": {
    "hash": "3636dfe3e3efced5924147eaeab8fa7e5204e27b435464fa03fa25953d53415b"
   }
  }
 },
 "nbformat": 4,
 "nbformat_minor": 4
}
