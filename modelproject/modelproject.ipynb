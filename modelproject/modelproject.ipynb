{
 "cells": [
  {
   "attachments": {},
   "cell_type": "markdown",
   "metadata": {},
   "source": [
    "# Overlapping Generation Model"
   ]
  },
  {
   "attachments": {},
   "cell_type": "markdown",
   "metadata": {},
   "source": [
    "> **Note the following:** \n",
    "> 1. This is *not* meant to be an example of an actual **model analysis project**, just an example of how to structure such a project.\n",
    "> 1. Remember the general advice on structuring and commenting your code\n",
    "> 1. The `modelproject.py` file includes a function which could be used multiple times in this notebook."
   ]
  },
  {
   "cell_type": "markdown",
   "metadata": {},
   "source": [
    "Imports and set magics:"
   ]
  },
  {
   "cell_type": "code",
   "execution_count": 1,
   "metadata": {},
   "outputs": [],
   "source": [
    "import numpy as np\n",
    "from scipy import optimize\n",
    "import sympy as sm\n",
    "import time\n",
    "\n",
    "# autoreload modules when code is run\n",
    "%load_ext autoreload\n",
    "%autoreload 2\n",
    "\n",
    "# plotting\n",
    "import matplotlib.pyplot as plt\n",
    "plt.style.use('seaborn-whitegrid')\n",
    "plt.rcParams.update({'font.size': 12})\n",
    "\n",
    "# local modules\n",
    "from modelproject import ***"
   ]
  },
  {
   "cell_type": "markdown",
   "metadata": {},
   "source": [
    "# Model description"
   ]
  },
  {
   "attachments": {},
   "cell_type": "markdown",
   "metadata": {},
   "source": [
    "The economy is a **closed** economy in descrete **time**, $t\\in\\{0,1,2,\\dots\\ , \\infty\\}$.\n",
    "\n",
    "The economey has two types of **agents**, households and firms. The households are divided into **two generations**. The young generation which are working, $L_{t}$ and the the old generation whcih lives of their pension, $L_{t-1}$. \n",
    "\n",
    "**The population** has a growth rate $n>-1$\n",
    "\n",
    "$$\n",
    "\\begin{aligned}\n",
    "L_{t} = L_{t-1}(1+n)\n",
    "\\end{aligned}\n",
    "$$\n",
    "\n",
    "**Households:** The young generation pays takes thorugh their wage and therefore earns $(1-\\tau_w)w_{t}$. The young consume a share of their wage which is denoted to $C_{1t}$ and the rest the save, $s_t\\in[0,1]$. The old generation earns returns on their savings, $(1-\\tau_{r})r_{t+1}$, and their consumption is denoted as $C_{2t+1}$. The households maximize their utility thorugh following **utillity** function:\n",
    "\n",
    "$$\n",
    "\\begin{aligned}\n",
    "U & =\\max_{s_{t}\\in[0,1]}\\frac{C_{1t}^{1-\\sigma}}{1-\\sigma}+\\beta\\frac{C_{1t+1}^{1-\\sigma}}{1-\\sigma},\\,\\,\\,\\beta > -1, \\sigma > 0\\\\\n",
    " & \\text{s.t.}\\\\\n",
    " & S_{t}=s_{t}(1-\\tau_{w})w_{t}\\\\\n",
    " & C_{1t}=(1-s_{t})(1-\\tau_{w})w_{t}\\\\\n",
    " & C_{2t+1}=(1+(1-\\tau_{r})r_{t+1})S_{t}\n",
    "\\end{aligned}\n",
    "$$"
   ]
  },
  {
   "attachments": {},
   "cell_type": "markdown",
   "metadata": {},
   "source": [
    "**Firms:** The firms hire labor, $L_t$, to a wage, $w_{t}$, and rent capital $K_{t-1}$ at the rental rate $r_{t}^{K}$. The firms maximize their profit and has following production function:\n",
    "\n",
    "$$\n",
    "\\begin{aligned}\n",
    "Y_{t}=F(K_{t-1},L_{t})=(\\alpha K_{t-1}^{-\\theta}+(1-\\alpha)L_{t}^{-\\theta})^{\\frac{1}{-\\theta}},\\,\\,\\,\\theta>-1,\\alpha\\in(0,1)\n",
    "\\end{aligned}\n",
    "$$\n",
    "    \n",
    "Profits are\n",
    "    \n",
    "$$\n",
    "\\begin{aligned}\n",
    "\\Pi_{t}=Y_{t}-w_{t}L_{t}-r_{t}^{K}K_{t-1}\n",
    "\\end{aligned}\n",
    "$$\n"
   ]
  },
  {
   "attachments": {},
   "cell_type": "markdown",
   "metadata": {},
   "source": [
    "**Government:** The goverment is donoted as, $G_{t}$, and issues tax rates $\\tau_w \\in [0,1]$ and $\\tau_r \\in [0,1]$. The total tax revenue can be described as:\n",
    "    \n",
    "$$\n",
    "\\begin{aligned}\n",
    "T_{t} &=\\tau_r r_{t} (K_{t-1}+B_{t-1})+\\tau_w w_{t}   \n",
    "\\end{aligned}\n",
    "$$\n",
    "    \n",
    "It is possible for the government to obtain debt which accumulates according to:\n",
    "    \n",
    "$$\n",
    "\\begin{aligned}\n",
    "B_{t} &=(1+r^b_{t})B_{t-1}-T_{t}+G_{t} \n",
    "\\end{aligned}\n",
    "$$\n",
    "       \n",
    "For the budget to balance out following needs to imply: $G_{t}=T_{t}-r_{t}B_{t-1}$."
   ]
  },
  {
   "attachments": {},
   "cell_type": "markdown",
   "metadata": {},
   "source": [
    "**Note** that all capital depreciates with a rate of $\\delta \\in [0,1]$."
   ]
  },
  {
   "cell_type": "markdown",
   "metadata": {},
   "source": [
    "## Analytical solution"
   ]
  },
  {
   "cell_type": "markdown",
   "metadata": {},
   "source": []
  },
  {
   "cell_type": "markdown",
   "metadata": {},
   "source": [
    "If your model allows for an analytical solution, you should provide here.\n",
    "\n",
    "You may use Sympy for this. Then you can characterize the solution as a function of a parameter of the model.\n",
    "\n",
    "To characterize the solution, first derive a steady state equation as a function of a parameter using Sympy.solve and then turn it into a python function by Sympy.lambdify. See the lecture notes for details. "
   ]
  },
  {
   "cell_type": "markdown",
   "metadata": {},
   "source": [
    "## Numerical solution"
   ]
  },
  {
   "cell_type": "markdown",
   "metadata": {},
   "source": [
    "You can always solve a model numerically. \n",
    "\n",
    "Define first the set of parameters you need. \n",
    "\n",
    "Then choose one of the optimization algorithms that we have gone through in the lectures based on what you think is most fitting for your model.\n",
    "\n",
    "Are there any problems with convergence? Does the model converge for all starting values? Make a lot of testing to figure these things out. "
   ]
  },
  {
   "cell_type": "markdown",
   "metadata": {},
   "source": [
    "# Further analysis"
   ]
  },
  {
   "cell_type": "markdown",
   "metadata": {},
   "source": [
    "Make detailed vizualizations of how your model changes with parameter values. \n",
    "\n",
    "Try to make an extension of the model. "
   ]
  },
  {
   "cell_type": "markdown",
   "metadata": {},
   "source": [
    "# Conclusion"
   ]
  },
  {
   "cell_type": "markdown",
   "metadata": {},
   "source": [
    "Add concise conclusion. "
   ]
  }
 ],
 "metadata": {
  "kernelspec": {
   "display_name": "base",
   "language": "python",
   "name": "python3"
  },
  "language_info": {
   "codemirror_mode": {
    "name": "ipython",
    "version": 3
   },
   "file_extension": ".py",
   "mimetype": "text/x-python",
   "name": "python",
   "nbconvert_exporter": "python",
   "pygments_lexer": "ipython3",
   "version": "3.9.13"
  },
  "toc-autonumbering": true,
  "vscode": {
   "interpreter": {
    "hash": "3636dfe3e3efced5924147eaeab8fa7e5204e27b435464fa03fa25953d53415b"
   }
  }
 },
 "nbformat": 4,
 "nbformat_minor": 4
}
