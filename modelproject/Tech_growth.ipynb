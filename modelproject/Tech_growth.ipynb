{
 "cells": [
  {
   "attachments": {},
   "cell_type": "markdown",
   "metadata": {},
   "source": [
    "# OLG"
   ]
  },
  {
   "attachments": {},
   "cell_type": "markdown",
   "metadata": {},
   "source": [
    "**Table of contents**<a id='toc0_'></a>    \n",
    "- 1. [OverLapping Generations (OLG) model](#toc1_)    \n",
    "- 2. [Model description](#toc2_)    \n",
    "  - 2.1. [Solution and simulation](#toc2_1_)    \n",
    "  - 2.2. [Test case](#toc2_2_)    \n",
    "  - 2.3. [Simulate first period manually](#toc2_3_)    \n",
    "  - 2.4. [Full simulation](#toc2_4_)    \n",
    "- 3. [Active government](#toc3_)    \n",
    "- 4. [Potential analysis and extension](#toc4_)    \n",
    "\n",
    "<!-- vscode-jupyter-toc-config\n",
    "\tnumbering=true\n",
    "\tanchor=true\n",
    "\tflat=false\n",
    "\tminLevel=2\n",
    "\tmaxLevel=6\n",
    "\t/vscode-jupyter-toc-config -->\n",
    "<!-- THIS CELL WILL BE REPLACED ON TOC UPDATE. DO NOT WRITE YOUR TEXT IN THIS CELL -->"
   ]
  },
  {
   "attachments": {},
   "cell_type": "markdown",
   "metadata": {},
   "source": [
    "You will learn how to solve the **overlapping generations (OLG) model**."
   ]
  },
  {
   "cell_type": "code",
   "execution_count": 15,
   "metadata": {},
   "outputs": [
    {
     "name": "stdout",
     "output_type": "stream",
     "text": [
      "The autoreload extension is already loaded. To reload it, use:\n",
      "  %reload_ext autoreload\n"
     ]
    },
    {
     "name": "stderr",
     "output_type": "stream",
     "text": [
      "C:\\Users\\echic\\AppData\\Local\\Temp\\ipykernel_1808\\618070575.py:9: MatplotlibDeprecationWarning: The seaborn styles shipped by Matplotlib are deprecated since 3.6, as they no longer correspond to the styles shipped by seaborn. However, they will remain available as 'seaborn-v0_8-<style>'. Alternatively, directly use the seaborn API instead.\n",
      "  plt.style.use('seaborn-whitegrid')\n"
     ]
    }
   ],
   "source": [
    "%load_ext autoreload\n",
    "%autoreload 2\n",
    "\n",
    "import numpy as np\n",
    "from scipy import optimize\n",
    "\n",
    "# plotting\n",
    "import matplotlib.pyplot as plt\n",
    "plt.style.use('seaborn-whitegrid')\n",
    "plt.rcParams.update({'font.size': 12})\n",
    "\n",
    "# models\n",
    "from Tech_growth import OLGModelClass"
   ]
  },
  {
   "attachments": {},
   "cell_type": "markdown",
   "metadata": {},
   "source": [
    "## 1. <a id='toc1_'></a>[OverLapping Generations (OLG) model](#toc0_)"
   ]
  },
  {
   "attachments": {},
   "cell_type": "markdown",
   "metadata": {},
   "source": [
    "## 2. <a id='toc2_'></a>[Model description](#toc0_)"
   ]
  },
  {
   "attachments": {},
   "cell_type": "markdown",
   "metadata": {},
   "source": [
    "**Time:** Discrete and indexed by $t\\in\\{0,1,\\dots\\}$."
   ]
  },
  {
   "attachments": {},
   "cell_type": "markdown",
   "metadata": {},
   "source": [
    "**Demographics:** Population is constant. A life consists of\n",
    "two periods, *young* and *old*."
   ]
  },
  {
   "attachments": {},
   "cell_type": "markdown",
   "metadata": {},
   "source": [
    "**Households:** As young a household supplies labor exogenously, $L_{t}=1$, and earns a after tax wage $(1-\\tau_w)w_{t}$. Consumption as young and old\n",
    "are denoted by $C_{1t}$ and $C_{2t+1}$. The after-tax return on saving is $(1-\\tau_{r})r_{t+1}$. Utility is\n",
    "    \n",
    "$$\n",
    "\\begin{aligned}\n",
    "U & =\\max_{s_{t}\\in[0,1]}\\frac{C_{1t}^{1-\\sigma}}{1-\\sigma}+\\beta\\frac{C_{1t+1}^{1-\\sigma}}{1-\\sigma},\\,\\,\\,\\beta > -1, \\sigma > 0\\\\\n",
    " & \\text{s.t.}\\\\\n",
    " & S_{t}=s_{t}(1-\\tau_{w})w_{t}\\\\\n",
    " & C_{1t}=(1-s_{t})(1-\\tau_{w})w_{t}\\\\\n",
    " & C_{2t+1}=(1+(1-\\tau_{r})r_{t+1})S_{t}\n",
    "\\end{aligned}\n",
    "$$\n",
    "    \n",
    "The problem is formulated in terms of the saving rate $s_t\\in[0,1]$."
   ]
  },
  {
   "attachments": {},
   "cell_type": "markdown",
   "metadata": {},
   "source": [
    "**Firms:** Firms rent capital $K_{t-1}$ at the rental rate $r_{t}^{K}$,\n",
    "and hires labor $E_{t}$ at the wage rate $w_{t}$. Firms have access\n",
    "to the production function\n",
    "    \n",
    "$$\n",
    "\\begin{aligned}\n",
    "Y_{t}=F(K_{t-1},E_{t})=(\\alpha K_{t-1}^{-\\theta}+(1-\\alpha)E_{t}^{-\\theta})^{\\frac{1}{-\\theta}},\\,\\,\\,\\theta>-1,\\alpha\\in(0,1)\n",
    "\\end{aligned}\n",
    "$$\n",
    "    \n",
    "Profits are\n",
    "    \n",
    "$$\n",
    "\\begin{aligned}\n",
    "\\Pi_{t}=Y_{t}-w_{t}E_{t}-r_{t}^{K}K_{t-1}\n",
    "\\end{aligned}\n",
    "$$"
   ]
  },
  {
   "attachments": {},
   "cell_type": "markdown",
   "metadata": {},
   "source": [
    "**Government:** Choose public consumption, $G_{t}$, and tax rates $\\tau_w \\in [0,1]$ and $\\tau_r \\in [0,1]$. Total tax revenue is\n",
    "    \n",
    "$$\n",
    "\\begin{aligned}\n",
    "T_{t} &=\\tau_r r_{t} (K_{t-1}+B_{t-1})+\\tau_w w_{t}   \n",
    "\\end{aligned}\n",
    "$$\n",
    "    \n",
    "Government debt accumulates according to\n",
    "    \n",
    "$$\n",
    "\\begin{aligned}\n",
    "B_{t} &=(1+r^b_{t})B_{t-1}-T_{t}+G_{t} \n",
    "\\end{aligned}\n",
    "$$\n",
    "       \n",
    "A *balanced budget* implies $G_{t}=T_{t}-r_{t}B_{t-1}$."
   ]
  },
  {
   "attachments": {},
   "cell_type": "markdown",
   "metadata": {},
   "source": [
    "**Capital:** Depreciates with a rate of $\\delta \\in [0,1]$."
   ]
  },
  {
   "attachments": {},
   "cell_type": "markdown",
   "metadata": {},
   "source": [
    "**Equilibrium:**\n",
    "\n",
    "1. Households maximize utility\n",
    "2. Firms maximize profits\n",
    "3. No-arbitrage between bonds and capital\n",
    "\n",
    "    $$\n",
    "    r_{t}=r_{t}^{K}-\\delta=r_{t}^{b}\n",
    "    $$\n",
    "\n",
    "4. Labor market clears: $E_{t}=L_{t}=1$\n",
    "5. Goods market clears: $Y_{t}=C_{1t}+C_{2t}+G_{t}+I_{t}$\n",
    "6. Asset market clears: $S_{t}=K_{t}+B_{t}$\n",
    "7. Capital follows its law of motion: $K_{t}=(1-\\delta)K_{t-1}+I_{t}$"
   ]
  },
  {
   "attachments": {},
   "cell_type": "markdown",
   "metadata": {},
   "source": [
    "**For more details on the OLG model:** See chapter 3-4 [here](https://web.econ.ku.dk/okocg/VM/VM-general/Material/Chapters-VM.htm)."
   ]
  },
  {
   "attachments": {},
   "cell_type": "markdown",
   "metadata": {},
   "source": [
    "### 2.1. <a id='toc2_1_'></a>[Solution and simulation](#toc0_)"
   ]
  },
  {
   "attachments": {},
   "cell_type": "markdown",
   "metadata": {},
   "source": [
    "**Implication of profit maximization:** From FOCs\n",
    "\n",
    "$$\n",
    "\\begin{aligned}\n",
    "r_{t}^{k} & =F_{K}(K_{t-1},E_{t})=\\alpha K_{t-1}^{-\\theta-1}Y_{t}^{1+\\theta}\\\\\n",
    "w_{t} & =F_{E}(K_{t-1},E_{t})=(1-\\alpha)E_{t}^{-\\theta-1}Y_{t}^{1+\\theta}\n",
    "\\end{aligned}\n",
    "$$\n",
    "\n",
    "**Implication of utility maximization:** From FOC\n",
    "\n",
    "$$\n",
    "\\begin{aligned}\n",
    "C_{1t}^{-\\sigma}=\\beta (1+(1-\\tau_r)r_{t+1})C_{2t+1}^{-\\sigma}\n",
    "\\end{aligned}\n",
    "$$"
   ]
  },
  {
   "attachments": {},
   "cell_type": "markdown",
   "metadata": {},
   "source": [
    "**Simulation algorithm:** At the beginning of period $t$, the\n",
    "economy can be summarized in the state variables $K_{t-1}$ and $B_{t-1}$.  *Before* $s_t$ is known, we can calculate:\n",
    "\n",
    "$$\n",
    "\\begin{aligned}\n",
    "Y_{t} & =F(K_{t-1},1)\\\\\n",
    "r_{t}^{k} & =F_{K}(K_{t-1},1)\\\\\n",
    "w_{t} & =F_{E}(K_{t-1},1)\\\\\n",
    "r_{t} & =r^k_{t}-\\delta\\\\\n",
    "r_{t}^{b} & =r_{t}\\\\\n",
    "\\tilde{r}_{t} & =(1-\\tau_{r})r_{t}\\\\\n",
    "C_{2t} & =(1+\\tilde{r}_{t})(K_{t-1}+B_{t-1})\\\\\n",
    "T_{t} & =\\tau_{r}r_{t}(K_{t-1}+B_{t-1})+\\tau_{w}w_{t}\\\\\n",
    "B_{t} & =(1+r^b_{t})B_{t-1}+T_{t}-G_{t}\\\\\n",
    "\\end{aligned}\n",
    "$$\n",
    "\n",
    "*After* $s_t$ is known we can calculate:\n",
    "\n",
    "$$\n",
    "\\begin{aligned}\n",
    "C_{1t} & = (1-s_{t})(1-\\tau_{w})w_{t}\\\\\n",
    "I_{t} & =Y_{t}-C_{1t}-C_{2t}-G_{t}\\\\\n",
    "K_{t} & =(1-\\delta)K_{t-1} + I_t\n",
    "\\end{aligned}\n",
    "$$"
   ]
  },
  {
   "attachments": {},
   "cell_type": "markdown",
   "metadata": {},
   "source": [
    "**Solution algorithm:** Simulate forward choosing $s_{t}$ so\n",
    "that we always have\n",
    "\n",
    "$$\n",
    "\\begin{aligned}\n",
    "C_{1t}^{-\\sigma}=\\beta(1+\\tilde{r}_{t+1})C_{2t+1}^{-\\sigma}\n",
    "\\end{aligned}\n",
    "$$"
   ]
  },
  {
   "attachments": {},
   "cell_type": "markdown",
   "metadata": {},
   "source": [
    "**Implementation:**\n",
    "\n",
    "1. Use a bisection root-finder to determine $s_t$\n",
    "2. Low $s_t$: A lot of consumption today. Low marginal utility. LHS < RHS.\n",
    "3. High $s_t$: Little consumption today. High marginal utility. LHS > RHS.\n",
    "4. Problem: Too low $s_t$ might not be feasible if $B_t > 0$.\n",
    "\n",
    "**Note:** Never errors in the Euler-equation due to *perfect foresight*."
   ]
  },
  {
   "attachments": {},
   "cell_type": "markdown",
   "metadata": {},
   "source": [
    "**Question:** Are all the requirements for the equilibrium satisfied?"
   ]
  },
  {
   "attachments": {},
   "cell_type": "markdown",
   "metadata": {},
   "source": [
    "### 2.2. <a id='toc2_2_'></a>[Test case](#toc0_)"
   ]
  },
  {
   "attachments": {},
   "cell_type": "markdown",
   "metadata": {},
   "source": [
    "1. Production is Cobb-Douglas ($\\theta = 0$)\n",
    "2. Utility is logarithmic ($\\sigma = 1$)\n",
    "3. The government is not doing anything ($\\tau_w=\\tau_r=0$, $T_t = G_t = 0$ and $B_t = 0$) \n",
    "\n",
    "**Analytical steady state:** It can be proven\n",
    "\n",
    "$$ \\lim_{t\\rightarrow\\infty} K_t = \\left(\\frac{1-\\alpha}{1+1/\\beta}\\right)^{\\frac{1}{1-\\alpha}} $$"
   ]
  },
  {
   "attachments": {},
   "cell_type": "markdown",
   "metadata": {},
   "source": [
    "**Setup:**"
   ]
  },
  {
   "cell_type": "code",
   "execution_count": 16,
   "metadata": {},
   "outputs": [
    {
     "name": "stdout",
     "output_type": "stream",
     "text": [
      "initializing the model:\n",
      "calling .setup()\n",
      "calling .allocate()\n"
     ]
    }
   ],
   "source": [
    "model = OLGModelClass()\n",
    "par = model.par # SimpeNamespace\n",
    "sim = model.sim # SimpeNamespace\n",
    "\n",
    "# a. production\n",
    "par.production_function = 'cobb-douglas'\n",
    "par.theta = 0.0\n",
    "\n",
    "# b. households\n",
    "par.sigma = 1.0\n",
    "\n",
    "# c. government\n",
    "par.tau_w = 0.0\n",
    "par.tau_r = 0.0\n",
    "sim.balanced_budget[:] = True # G changes to achieve this\n",
    "\n",
    "# d. initial values\n",
    "K_ss = ((1-par.alpha)/((1+1.0/par.beta)))**(1/(1-par.alpha))\n",
    "par.K_lag_ini = 0.1*K_ss"
   ]
  },
  {
   "attachments": {},
   "cell_type": "markdown",
   "metadata": {},
   "source": [
    "### 2.3. <a id='toc2_3_'></a>[Simulate first period manually](#toc0_)"
   ]
  },
  {
   "cell_type": "code",
   "execution_count": 17,
   "metadata": {},
   "outputs": [],
   "source": [
    "from Tech_growth import simulate_before_s, simulate_after_s, find_s_bracket, calc_euler_error"
   ]
  },
  {
   "attachments": {},
   "cell_type": "markdown",
   "metadata": {},
   "source": [
    "**Make a guess:**"
   ]
  },
  {
   "cell_type": "code",
   "execution_count": 18,
   "metadata": {},
   "outputs": [],
   "source": [
    "s_guess = 0.41"
   ]
  },
  {
   "attachments": {},
   "cell_type": "markdown",
   "metadata": {},
   "source": [
    "**Evaluate first period:**"
   ]
  },
  {
   "cell_type": "code",
   "execution_count": 19,
   "metadata": {},
   "outputs": [
    {
     "name": "stdout",
     "output_type": "stream",
     "text": [
      "sim.C2[0] =  0.0973\n",
      "sim.C1[0] =  0.1221\n",
      "sim.C2[1] =  nan\n",
      "sim.rt[1] =  nan\n",
      "euler-error = nan\n"
     ]
    }
   ],
   "source": [
    "# a. initialize\n",
    "sim.K_lag[0] = par.K_lag_ini\n",
    "sim.B_lag[0] = par.B_lag_ini\n",
    "\n",
    "simulate_before_s(par,sim,t=0)\n",
    "print(f'{sim.C2[0] = : .4f}')\n",
    "\n",
    "simulate_after_s(par,sim,s=s_guess,t=0)\n",
    "print(f'{sim.C1[0] = : .4f}')\n",
    "\n",
    "simulate_before_s(par,sim,t=1)\n",
    "print(f'{sim.C2[1] = : .4f}')\n",
    "print(f'{sim.rt[1] = : .4f}')\n",
    "\n",
    "LHS_Euler = sim.C1[0]**(-par.sigma)\n",
    "RHS_Euler = (1+sim.rt[1])*par.beta * sim.C2[1]**(-par.sigma)\n",
    "print(f'euler-error = {LHS_Euler-RHS_Euler:.8f}')"
   ]
  },
  {
   "attachments": {},
   "cell_type": "markdown",
   "metadata": {},
   "source": [
    "**Implemented as function:**"
   ]
  },
  {
   "cell_type": "code",
   "execution_count": 20,
   "metadata": {},
   "outputs": [
    {
     "name": "stdout",
     "output_type": "stream",
     "text": [
      "euler-error = nan\n"
     ]
    }
   ],
   "source": [
    "euler_error = calc_euler_error(s_guess,par,sim,t=0)\n",
    "print(f'euler-error = {euler_error:.8f}')"
   ]
  },
  {
   "attachments": {},
   "cell_type": "markdown",
   "metadata": {},
   "source": [
    "**Find bracket to search in:**"
   ]
  },
  {
   "cell_type": "code",
   "execution_count": 21,
   "metadata": {},
   "outputs": [
    {
     "name": "stdout",
     "output_type": "stream",
     "text": [
      "euler-error for s =   0.99999999 =          nan\n",
      "euler-error for s =   0.50000000 =          nan\n",
      "euler-error for s =   0.75000000 =          nan\n",
      "euler-error for s =   0.87499999 =          nan\n",
      "euler-error for s =   0.93749999 =          nan\n",
      "euler-error for s =   0.96874999 =          nan\n",
      "euler-error for s =   0.98437499 =          nan\n",
      "euler-error for s =   0.99218749 =          nan\n",
      "euler-error for s =   0.99609374 =          nan\n",
      "euler-error for s =   0.99804687 =          nan\n",
      "euler-error for s =   0.99902343 =          nan\n",
      "euler-error for s =   0.99951171 =          nan\n",
      "euler-error for s =   0.99975585 =          nan\n",
      "euler-error for s =   0.99987792 =          nan\n",
      "euler-error for s =   0.99993895 =          nan\n",
      "euler-error for s =   0.99996947 =          nan\n",
      "euler-error for s =   0.99998473 =          nan\n",
      "euler-error for s =   0.99999236 =          nan\n",
      "euler-error for s =   0.99999618 =          nan\n",
      "euler-error for s =   0.99999808 =          nan\n",
      "euler-error for s =   0.99999904 =          nan\n",
      "euler-error for s =   0.99999951 =          nan\n",
      "euler-error for s =   0.99999975 =          nan\n",
      "euler-error for s =   0.99999987 =          nan\n",
      "euler-error for s =   0.99999993 =          nan\n",
      "euler-error for s =   0.99999996 =          nan\n",
      "euler-error for s =   0.99999998 =          nan\n",
      "euler-error for s =   0.99999998 =          nan\n",
      "euler-error for s =   0.99999999 =          nan\n",
      "euler-error for s =   0.99999999 =          nan\n",
      "euler-error for s =   0.99999999 =          nan\n",
      "euler-error for s =   0.99999999 =          nan\n",
      "euler-error for s =   0.99999999 =          nan\n",
      "euler-error for s =   0.99999999 =          nan\n",
      "euler-error for s =   0.99999999 =          nan\n",
      "euler-error for s =   0.99999999 =          nan\n",
      "euler-error for s =   0.99999999 =          nan\n",
      "euler-error for s =   0.99999999 =          nan\n",
      "euler-error for s =   0.99999999 =          nan\n",
      "euler-error for s =   0.99999999 =          nan\n",
      "euler-error for s =   0.99999999 =          nan\n",
      "euler-error for s =   0.99999999 =          nan\n",
      "euler-error for s =   0.99999999 =          nan\n",
      "euler-error for s =   0.99999999 =          nan\n",
      "euler-error for s =   0.99999999 =          nan\n",
      "euler-error for s =   0.99999999 =          nan\n",
      "euler-error for s =   0.99999999 =          nan\n",
      "euler-error for s =   0.99999999 =          nan\n",
      "euler-error for s =   0.99999999 =          nan\n",
      "euler-error for s =   0.99999999 =          nan\n",
      "euler-error for s =   0.99999999 =          nan\n",
      "euler-error for s =   0.99999999 =          nan\n",
      "euler-error for s =   0.99999999 =          nan\n",
      "euler-error for s =   0.99999999 =          nan\n",
      "euler-error for s =   0.99999999 =          nan\n",
      "euler-error for s =   0.99999999 =          nan\n",
      "euler-error for s =   0.99999999 =          nan\n",
      "euler-error for s =   0.99999999 =          nan\n",
      "euler-error for s =   0.99999999 =          nan\n",
      "euler-error for s =   0.99999999 =          nan\n",
      "euler-error for s =   0.99999999 =          nan\n",
      "euler-error for s =   0.99999999 =          nan\n",
      "euler-error for s =   0.99999999 =          nan\n",
      "euler-error for s =   0.99999999 =          nan\n",
      "euler-error for s =   0.99999999 =          nan\n",
      "euler-error for s =   0.99999999 =          nan\n",
      "euler-error for s =   0.99999999 =          nan\n",
      "euler-error for s =   0.99999999 =          nan\n",
      "euler-error for s =   0.99999999 =          nan\n",
      "euler-error for s =   0.99999999 =          nan\n",
      "euler-error for s =   0.99999999 =          nan\n",
      "euler-error for s =   0.99999999 =          nan\n",
      "euler-error for s =   0.99999999 =          nan\n",
      "euler-error for s =   0.99999999 =          nan\n",
      "euler-error for s =   0.99999999 =          nan\n",
      "euler-error for s =   0.99999999 =          nan\n",
      "euler-error for s =   0.99999999 =          nan\n",
      "euler-error for s =   0.99999999 =          nan\n",
      "euler-error for s =   0.99999999 =          nan\n",
      "euler-error for s =   0.99999999 =          nan\n",
      "euler-error for s =   0.99999999 =          nan\n",
      "euler-error for s =   0.99999999 =          nan\n",
      "euler-error for s =   0.99999999 =          nan\n",
      "euler-error for s =   0.99999999 =          nan\n",
      "euler-error for s =   0.99999999 =          nan\n",
      "euler-error for s =   0.99999999 =          nan\n",
      "euler-error for s =   0.99999999 =          nan\n",
      "euler-error for s =   0.99999999 =          nan\n",
      "euler-error for s =   0.99999999 =          nan\n",
      "euler-error for s =   0.99999999 =          nan\n",
      "euler-error for s =   0.99999999 =          nan\n",
      "euler-error for s =   0.99999999 =          nan\n",
      "euler-error for s =   0.99999999 =          nan\n",
      "euler-error for s =   0.99999999 =          nan\n",
      "euler-error for s =   0.99999999 =          nan\n",
      "euler-error for s =   0.99999999 =          nan\n",
      "euler-error for s =   0.99999999 =          nan\n",
      "euler-error for s =   0.99999999 =          nan\n",
      "euler-error for s =   0.99999999 =          nan\n",
      "euler-error for s =   0.99999999 =          nan\n",
      "euler-error for s =   0.99999999 =          nan\n",
      "euler-error for s =   0.99999999 =          nan\n",
      "euler-error for s =   0.99999999 =          nan\n",
      "euler-error for s =   0.99999999 =          nan\n",
      "euler-error for s =   0.99999999 =          nan\n",
      "euler-error for s =   0.99999999 =          nan\n",
      "euler-error for s =   0.99999999 =          nan\n",
      "euler-error for s =   0.99999999 =          nan\n",
      "euler-error for s =   0.99999999 =          nan\n",
      "euler-error for s =   0.99999999 =          nan\n",
      "euler-error for s =   0.99999999 =          nan\n",
      "euler-error for s =   0.99999999 =          nan\n",
      "euler-error for s =   0.99999999 =          nan\n",
      "euler-error for s =   0.99999999 =          nan\n",
      "euler-error for s =   0.99999999 =          nan\n",
      "euler-error for s =   0.99999999 =          nan\n",
      "euler-error for s =   0.99999999 =          nan\n",
      "euler-error for s =   0.99999999 =          nan\n",
      "euler-error for s =   0.99999999 =          nan\n",
      "euler-error for s =   0.99999999 =          nan\n",
      "euler-error for s =   0.99999999 =          nan\n",
      "euler-error for s =   0.99999999 =          nan\n",
      "euler-error for s =   0.99999999 =          nan\n",
      "euler-error for s =   0.99999999 =          nan\n",
      "euler-error for s =   0.99999999 =          nan\n",
      "euler-error for s =   0.99999999 =          nan\n",
      "euler-error for s =   0.99999999 =          nan\n",
      "euler-error for s =   0.99999999 =          nan\n",
      "euler-error for s =   0.99999999 =          nan\n",
      "euler-error for s =   0.99999999 =          nan\n",
      "euler-error for s =   0.99999999 =          nan\n",
      "euler-error for s =   0.99999999 =          nan\n",
      "euler-error for s =   0.99999999 =          nan\n",
      "euler-error for s =   0.99999999 =          nan\n",
      "euler-error for s =   0.99999999 =          nan\n",
      "euler-error for s =   0.99999999 =          nan\n",
      "euler-error for s =   0.99999999 =          nan\n",
      "euler-error for s =   0.99999999 =          nan\n",
      "euler-error for s =   0.99999999 =          nan\n",
      "euler-error for s =   0.99999999 =          nan\n",
      "euler-error for s =   0.99999999 =          nan\n",
      "euler-error for s =   0.99999999 =          nan\n",
      "euler-error for s =   0.99999999 =          nan\n",
      "euler-error for s =   0.99999999 =          nan\n",
      "euler-error for s =   0.99999999 =          nan\n",
      "euler-error for s =   0.99999999 =          nan\n",
      "euler-error for s =   0.99999999 =          nan\n",
      "euler-error for s =   0.99999999 =          nan\n",
      "euler-error for s =   0.99999999 =          nan\n",
      "euler-error for s =   0.99999999 =          nan\n",
      "euler-error for s =   0.99999999 =          nan\n",
      "euler-error for s =   0.99999999 =          nan\n",
      "euler-error for s =   0.99999999 =          nan\n",
      "euler-error for s =   0.99999999 =          nan\n",
      "euler-error for s =   0.99999999 =          nan\n",
      "euler-error for s =   0.99999999 =          nan\n",
      "euler-error for s =   0.99999999 =          nan\n",
      "euler-error for s =   0.99999999 =          nan\n",
      "euler-error for s =   0.99999999 =          nan\n",
      "euler-error for s =   0.99999999 =          nan\n",
      "euler-error for s =   0.99999999 =          nan\n",
      "euler-error for s =   0.99999999 =          nan\n",
      "euler-error for s =   0.99999999 =          nan\n",
      "euler-error for s =   0.99999999 =          nan\n",
      "euler-error for s =   0.99999999 =          nan\n",
      "euler-error for s =   0.99999999 =          nan\n",
      "euler-error for s =   0.99999999 =          nan\n",
      "euler-error for s =   0.99999999 =          nan\n",
      "euler-error for s =   0.99999999 =          nan\n",
      "euler-error for s =   0.99999999 =          nan\n",
      "euler-error for s =   0.99999999 =          nan\n",
      "euler-error for s =   0.99999999 =          nan\n",
      "euler-error for s =   0.99999999 =          nan\n",
      "euler-error for s =   0.99999999 =          nan\n",
      "euler-error for s =   0.99999999 =          nan\n",
      "euler-error for s =   0.99999999 =          nan\n",
      "euler-error for s =   0.99999999 =          nan\n",
      "euler-error for s =   0.99999999 =          nan\n",
      "euler-error for s =   0.99999999 =          nan\n",
      "euler-error for s =   0.99999999 =          nan\n",
      "euler-error for s =   0.99999999 =          nan\n",
      "euler-error for s =   0.99999999 =          nan\n",
      "euler-error for s =   0.99999999 =          nan\n",
      "euler-error for s =   0.99999999 =          nan\n",
      "euler-error for s =   0.99999999 =          nan\n",
      "euler-error for s =   0.99999999 =          nan\n",
      "euler-error for s =   0.99999999 =          nan\n",
      "euler-error for s =   0.99999999 =          nan\n",
      "euler-error for s =   0.99999999 =          nan\n",
      "euler-error for s =   0.99999999 =          nan\n",
      "euler-error for s =   0.99999999 =          nan\n",
      "euler-error for s =   0.99999999 =          nan\n",
      "euler-error for s =   0.99999999 =          nan\n",
      "euler-error for s =   0.99999999 =          nan\n",
      "euler-error for s =   0.99999999 =          nan\n",
      "euler-error for s =   0.99999999 =          nan\n",
      "euler-error for s =   0.99999999 =          nan\n",
      "euler-error for s =   0.99999999 =          nan\n",
      "euler-error for s =   0.99999999 =          nan\n",
      "euler-error for s =   0.99999999 =          nan\n",
      "euler-error for s =   0.99999999 =          nan\n",
      "euler-error for s =   0.99999999 =          nan\n",
      "euler-error for s =   0.99999999 =          nan\n",
      "euler-error for s =   0.99999999 =          nan\n",
      "euler-error for s =   0.99999999 =          nan\n",
      "euler-error for s =   0.99999999 =          nan\n",
      "euler-error for s =   0.99999999 =          nan\n",
      "euler-error for s =   0.99999999 =          nan\n",
      "euler-error for s =   0.99999999 =          nan\n",
      "euler-error for s =   0.99999999 =          nan\n",
      "euler-error for s =   0.99999999 =          nan\n",
      "euler-error for s =   0.99999999 =          nan\n",
      "euler-error for s =   0.99999999 =          nan\n",
      "euler-error for s =   0.99999999 =          nan\n",
      "euler-error for s =   0.99999999 =          nan\n",
      "euler-error for s =   0.99999999 =          nan\n",
      "euler-error for s =   0.99999999 =          nan\n",
      "euler-error for s =   0.99999999 =          nan\n",
      "euler-error for s =   0.99999999 =          nan\n",
      "euler-error for s =   0.99999999 =          nan\n",
      "euler-error for s =   0.99999999 =          nan\n",
      "euler-error for s =   0.99999999 =          nan\n",
      "euler-error for s =   0.99999999 =          nan\n",
      "euler-error for s =   0.99999999 =          nan\n",
      "euler-error for s =   0.99999999 =          nan\n",
      "euler-error for s =   0.99999999 =          nan\n",
      "euler-error for s =   0.99999999 =          nan\n",
      "euler-error for s =   0.99999999 =          nan\n",
      "euler-error for s =   0.99999999 =          nan\n",
      "euler-error for s =   0.99999999 =          nan\n",
      "euler-error for s =   0.99999999 =          nan\n",
      "euler-error for s =   0.99999999 =          nan\n",
      "euler-error for s =   0.99999999 =          nan\n",
      "euler-error for s =   0.99999999 =          nan\n",
      "euler-error for s =   0.99999999 =          nan\n",
      "euler-error for s =   0.99999999 =          nan\n",
      "euler-error for s =   0.99999999 =          nan\n",
      "euler-error for s =   0.99999999 =          nan\n",
      "euler-error for s =   0.99999999 =          nan\n",
      "euler-error for s =   0.99999999 =          nan\n",
      "euler-error for s =   0.99999999 =          nan\n",
      "euler-error for s =   0.99999999 =          nan\n",
      "euler-error for s =   0.99999999 =          nan\n",
      "euler-error for s =   0.99999999 =          nan\n",
      "euler-error for s =   0.99999999 =          nan\n",
      "euler-error for s =   0.99999999 =          nan\n",
      "euler-error for s =   0.99999999 =          nan\n",
      "euler-error for s =   0.99999999 =          nan\n",
      "euler-error for s =   0.99999999 =          nan\n",
      "euler-error for s =   0.99999999 =          nan\n",
      "euler-error for s =   0.99999999 =          nan\n",
      "euler-error for s =   0.99999999 =          nan\n",
      "euler-error for s =   0.99999999 =          nan\n",
      "euler-error for s =   0.99999999 =          nan\n",
      "euler-error for s =   0.99999999 =          nan\n",
      "euler-error for s =   0.99999999 =          nan\n",
      "euler-error for s =   0.99999999 =          nan\n",
      "euler-error for s =   0.99999999 =          nan\n",
      "euler-error for s =   0.99999999 =          nan\n",
      "euler-error for s =   0.99999999 =          nan\n",
      "euler-error for s =   0.99999999 =          nan\n",
      "euler-error for s =   0.99999999 =          nan\n",
      "euler-error for s =   0.99999999 =          nan\n",
      "euler-error for s =   0.99999999 =          nan\n",
      "euler-error for s =   0.99999999 =          nan\n",
      "euler-error for s =   0.99999999 =          nan\n",
      "euler-error for s =   0.99999999 =          nan\n",
      "euler-error for s =   0.99999999 =          nan\n",
      "euler-error for s =   0.99999999 =          nan\n",
      "euler-error for s =   0.99999999 =          nan\n",
      "euler-error for s =   0.99999999 =          nan\n",
      "euler-error for s =   0.99999999 =          nan\n",
      "euler-error for s =   0.99999999 =          nan\n",
      "euler-error for s =   0.99999999 =          nan\n",
      "euler-error for s =   0.99999999 =          nan\n",
      "euler-error for s =   0.99999999 =          nan\n",
      "euler-error for s =   0.99999999 =          nan\n",
      "euler-error for s =   0.99999999 =          nan\n",
      "euler-error for s =   0.99999999 =          nan\n",
      "euler-error for s =   0.99999999 =          nan\n",
      "euler-error for s =   0.99999999 =          nan\n",
      "euler-error for s =   0.99999999 =          nan\n",
      "euler-error for s =   0.99999999 =          nan\n",
      "euler-error for s =   0.99999999 =          nan\n",
      "euler-error for s =   0.99999999 =          nan\n",
      "euler-error for s =   0.99999999 =          nan\n",
      "euler-error for s =   0.99999999 =          nan\n",
      "euler-error for s =   0.99999999 =          nan\n",
      "euler-error for s =   0.99999999 =          nan\n",
      "euler-error for s =   0.99999999 =          nan\n",
      "euler-error for s =   0.99999999 =          nan\n",
      "euler-error for s =   0.99999999 =          nan\n",
      "euler-error for s =   0.99999999 =          nan\n",
      "euler-error for s =   0.99999999 =          nan\n",
      "euler-error for s =   0.99999999 =          nan\n",
      "euler-error for s =   0.99999999 =          nan\n",
      "euler-error for s =   0.99999999 =          nan\n",
      "euler-error for s =   0.99999999 =          nan\n",
      "euler-error for s =   0.99999999 =          nan\n",
      "euler-error for s =   0.99999999 =          nan\n",
      "euler-error for s =   0.99999999 =          nan\n",
      "euler-error for s =   0.99999999 =          nan\n",
      "euler-error for s =   0.99999999 =          nan\n",
      "euler-error for s =   0.99999999 =          nan\n",
      "euler-error for s =   0.99999999 =          nan\n",
      "euler-error for s =   0.99999999 =          nan\n",
      "euler-error for s =   0.99999999 =          nan\n",
      "euler-error for s =   0.99999999 =          nan\n",
      "euler-error for s =   0.99999999 =          nan\n",
      "euler-error for s =   0.99999999 =          nan\n",
      "euler-error for s =   0.99999999 =          nan\n",
      "euler-error for s =   0.99999999 =          nan\n",
      "euler-error for s =   0.99999999 =          nan\n",
      "euler-error for s =   0.99999999 =          nan\n",
      "euler-error for s =   0.99999999 =          nan\n",
      "euler-error for s =   0.99999999 =          nan\n",
      "euler-error for s =   0.99999999 =          nan\n",
      "euler-error for s =   0.99999999 =          nan\n",
      "euler-error for s =   0.99999999 =          nan\n",
      "euler-error for s =   0.99999999 =          nan\n",
      "euler-error for s =   0.99999999 =          nan\n",
      "euler-error for s =   0.99999999 =          nan\n",
      "euler-error for s =   0.99999999 =          nan\n",
      "euler-error for s =   0.99999999 =          nan\n",
      "euler-error for s =   0.99999999 =          nan\n",
      "euler-error for s =   0.99999999 =          nan\n",
      "euler-error for s =   0.99999999 =          nan\n",
      "euler-error for s =   0.99999999 =          nan\n",
      "euler-error for s =   0.99999999 =          nan\n",
      "euler-error for s =   0.99999999 =          nan\n",
      "euler-error for s =   0.99999999 =          nan\n",
      "euler-error for s =   0.99999999 =          nan\n",
      "euler-error for s =   0.99999999 =          nan\n",
      "euler-error for s =   0.99999999 =          nan\n",
      "euler-error for s =   0.99999999 =          nan\n",
      "euler-error for s =   0.99999999 =          nan\n",
      "euler-error for s =   0.99999999 =          nan\n",
      "euler-error for s =   0.99999999 =          nan\n",
      "euler-error for s =   0.99999999 =          nan\n",
      "euler-error for s =   0.99999999 =          nan\n",
      "euler-error for s =   0.99999999 =          nan\n",
      "euler-error for s =   0.99999999 =          nan\n",
      "euler-error for s =   0.99999999 =          nan\n",
      "euler-error for s =   0.99999999 =          nan\n",
      "euler-error for s =   0.99999999 =          nan\n",
      "euler-error for s =   0.99999999 =          nan\n",
      "euler-error for s =   0.99999999 =          nan\n",
      "euler-error for s =   0.99999999 =          nan\n",
      "euler-error for s =   0.99999999 =          nan\n",
      "euler-error for s =   0.99999999 =          nan\n",
      "euler-error for s =   0.99999999 =          nan\n",
      "euler-error for s =   0.99999999 =          nan\n",
      "euler-error for s =   0.99999999 =          nan\n",
      "euler-error for s =   0.99999999 =          nan\n",
      "euler-error for s =   0.99999999 =          nan\n",
      "euler-error for s =   0.99999999 =          nan\n",
      "euler-error for s =   0.99999999 =          nan\n",
      "euler-error for s =   0.99999999 =          nan\n",
      "euler-error for s =   0.99999999 =          nan\n",
      "euler-error for s =   0.99999999 =          nan\n",
      "euler-error for s =   0.99999999 =          nan\n",
      "euler-error for s =   0.99999999 =          nan\n",
      "euler-error for s =   0.99999999 =          nan\n",
      "euler-error for s =   0.99999999 =          nan\n",
      "euler-error for s =   0.99999999 =          nan\n",
      "euler-error for s =   0.99999999 =          nan\n",
      "euler-error for s =   0.99999999 =          nan\n",
      "euler-error for s =   0.99999999 =          nan\n",
      "euler-error for s =   0.99999999 =          nan\n",
      "euler-error for s =   0.99999999 =          nan\n",
      "euler-error for s =   0.99999999 =          nan\n",
      "euler-error for s =   0.99999999 =          nan\n",
      "euler-error for s =   0.99999999 =          nan\n",
      "euler-error for s =   0.99999999 =          nan\n",
      "euler-error for s =   0.99999999 =          nan\n",
      "euler-error for s =   0.99999999 =          nan\n",
      "euler-error for s =   0.99999999 =          nan\n",
      "euler-error for s =   0.99999999 =          nan\n",
      "euler-error for s =   0.99999999 =          nan\n",
      "euler-error for s =   0.99999999 =          nan\n",
      "euler-error for s =   0.99999999 =          nan\n",
      "euler-error for s =   0.99999999 =          nan\n",
      "euler-error for s =   0.99999999 =          nan\n",
      "euler-error for s =   0.99999999 =          nan\n",
      "euler-error for s =   0.99999999 =          nan\n",
      "euler-error for s =   0.99999999 =          nan\n",
      "euler-error for s =   0.99999999 =          nan\n",
      "euler-error for s =   0.99999999 =          nan\n",
      "euler-error for s =   0.99999999 =          nan\n",
      "euler-error for s =   0.99999999 =          nan\n",
      "euler-error for s =   0.99999999 =          nan\n",
      "euler-error for s =   0.99999999 =          nan\n",
      "euler-error for s =   0.99999999 =          nan\n",
      "euler-error for s =   0.99999999 =          nan\n",
      "euler-error for s =   0.99999999 =          nan\n",
      "euler-error for s =   0.99999999 =          nan\n",
      "euler-error for s =   0.99999999 =          nan\n",
      "euler-error for s =   0.99999999 =          nan\n",
      "euler-error for s =   0.99999999 =          nan\n",
      "euler-error for s =   0.99999999 =          nan\n",
      "euler-error for s =   0.99999999 =          nan\n",
      "euler-error for s =   0.99999999 =          nan\n",
      "euler-error for s =   0.99999999 =          nan\n",
      "euler-error for s =   0.99999999 =          nan\n",
      "euler-error for s =   0.99999999 =          nan\n",
      "euler-error for s =   0.99999999 =          nan\n",
      "euler-error for s =   0.99999999 =          nan\n",
      "euler-error for s =   0.99999999 =          nan\n",
      "euler-error for s =   0.99999999 =          nan\n",
      "euler-error for s =   0.99999999 =          nan\n",
      "euler-error for s =   0.99999999 =          nan\n",
      "euler-error for s =   0.99999999 =          nan\n",
      "euler-error for s =   0.99999999 =          nan\n",
      "euler-error for s =   0.99999999 =          nan\n",
      "euler-error for s =   0.99999999 =          nan\n",
      "euler-error for s =   0.99999999 =          nan\n",
      "euler-error for s =   0.99999999 =          nan\n",
      "euler-error for s =   0.99999999 =          nan\n",
      "euler-error for s =   0.99999999 =          nan\n",
      "euler-error for s =   0.99999999 =          nan\n",
      "euler-error for s =   0.99999999 =          nan\n",
      "euler-error for s =   0.99999999 =          nan\n",
      "euler-error for s =   0.99999999 =          nan\n",
      "euler-error for s =   0.99999999 =          nan\n",
      "euler-error for s =   0.99999999 =          nan\n",
      "euler-error for s =   0.99999999 =          nan\n",
      "euler-error for s =   0.99999999 =          nan\n",
      "euler-error for s =   0.99999999 =          nan\n",
      "euler-error for s =   0.99999999 =          nan\n",
      "euler-error for s =   0.99999999 =          nan\n",
      "euler-error for s =   0.99999999 =          nan\n",
      "euler-error for s =   0.99999999 =          nan\n",
      "euler-error for s =   0.99999999 =          nan\n",
      "euler-error for s =   0.99999999 =          nan\n",
      "euler-error for s =   0.99999999 =          nan\n",
      "euler-error for s =   0.99999999 =          nan\n",
      "euler-error for s =   0.99999999 =          nan\n",
      "euler-error for s =   0.99999999 =          nan\n",
      "euler-error for s =   0.99999999 =          nan\n",
      "euler-error for s =   0.99999999 =          nan\n",
      "euler-error for s =   0.99999999 =          nan\n",
      "euler-error for s =   0.99999999 =          nan\n",
      "euler-error for s =   0.99999999 =          nan\n",
      "euler-error for s =   0.99999999 =          nan\n",
      "euler-error for s =   0.99999999 =          nan\n",
      "euler-error for s =   0.99999999 =          nan\n",
      "euler-error for s =   0.99999999 =          nan\n",
      "euler-error for s =   0.99999999 =          nan\n",
      "euler-error for s =   0.99999999 =          nan\n",
      "euler-error for s =   0.99999999 =          nan\n",
      "euler-error for s =   0.99999999 =          nan\n",
      "euler-error for s =   0.99999999 =          nan\n",
      "euler-error for s =   0.99999999 =          nan\n",
      "euler-error for s =   0.99999999 =          nan\n",
      "euler-error for s =   0.99999999 =          nan\n",
      "euler-error for s =   0.99999999 =          nan\n",
      "euler-error for s =   0.99999999 =          nan\n",
      "euler-error for s =   0.99999999 =          nan\n",
      "euler-error for s =   0.99999999 =          nan\n",
      "euler-error for s =   0.99999999 =          nan\n",
      "euler-error for s =   0.99999999 =          nan\n",
      "euler-error for s =   0.99999999 =          nan\n",
      "euler-error for s =   0.99999999 =          nan\n",
      "euler-error for s =   0.99999999 =          nan\n",
      "euler-error for s =   0.99999999 =          nan\n",
      "euler-error for s =   0.99999999 =          nan\n",
      "euler-error for s =   0.99999999 =          nan\n",
      "euler-error for s =   0.99999999 =          nan\n",
      "euler-error for s =   0.99999999 =          nan\n",
      "euler-error for s =   0.99999999 =          nan\n",
      "euler-error for s =   0.99999999 =          nan\n",
      "euler-error for s =   0.99999999 =          nan\n",
      "euler-error for s =   0.99999999 =          nan\n",
      "euler-error for s =   0.99999999 =          nan\n",
      "euler-error for s =   0.99999999 =          nan\n",
      "euler-error for s =   0.99999999 =          nan\n",
      "euler-error for s =   0.99999999 =          nan\n",
      "euler-error for s =   0.99999999 =          nan\n",
      "euler-error for s =   0.99999999 =          nan\n",
      "euler-error for s =   0.99999999 =          nan\n",
      "euler-error for s =   0.99999999 =          nan\n",
      "euler-error for s =   0.99999999 =          nan\n",
      "euler-error for s =   0.99999999 =          nan\n",
      "euler-error for s =   0.99999999 =          nan\n",
      "euler-error for s =   0.99999999 =          nan\n",
      "euler-error for s =   0.99999999 =          nan\n",
      "euler-error for s =   0.99999999 =          nan\n",
      "euler-error for s =   0.99999999 =          nan\n",
      "euler-error for s =   0.99999999 =          nan\n",
      "euler-error for s =   0.99999999 =          nan\n",
      "euler-error for s =   0.99999999 =          nan\n",
      "euler-error for s =   0.99999999 =          nan\n",
      "euler-error for s =   0.99999999 =          nan\n",
      "euler-error for s =   0.99999999 =          nan\n",
      "euler-error for s =   0.99999999 =          nan\n",
      "euler-error for s =   0.99999999 =          nan\n",
      "euler-error for s =   0.99999999 =          nan\n",
      "euler-error for s =   0.99999999 =          nan\n",
      "euler-error for s =   0.99999999 =          nan\n",
      "euler-error for s =   0.99999999 =          nan\n",
      "euler-error for s =   0.99999999 =          nan\n"
     ]
    },
    {
     "ename": "Exception",
     "evalue": "cannot find bracket for s",
     "output_type": "error",
     "traceback": [
      "\u001b[1;31m---------------------------------------------------------------------------\u001b[0m",
      "\u001b[1;31mException\u001b[0m                                 Traceback (most recent call last)",
      "\u001b[1;32m~\\AppData\\Local\\Temp\\ipykernel_1808\\2957914862.py\u001b[0m in \u001b[0;36m<module>\u001b[1;34m\u001b[0m\n\u001b[1;32m----> 1\u001b[1;33m \u001b[0ms_min\u001b[0m\u001b[1;33m,\u001b[0m\u001b[0ms_max\u001b[0m \u001b[1;33m=\u001b[0m \u001b[0mfind_s_bracket\u001b[0m\u001b[1;33m(\u001b[0m\u001b[0mpar\u001b[0m\u001b[1;33m,\u001b[0m\u001b[0msim\u001b[0m\u001b[1;33m,\u001b[0m\u001b[0mt\u001b[0m\u001b[1;33m=\u001b[0m\u001b[1;36m0\u001b[0m\u001b[1;33m,\u001b[0m\u001b[0mdo_print\u001b[0m\u001b[1;33m=\u001b[0m\u001b[1;32mTrue\u001b[0m\u001b[1;33m)\u001b[0m\u001b[1;33m;\u001b[0m\u001b[1;33m\u001b[0m\u001b[1;33m\u001b[0m\u001b[0m\n\u001b[0m",
      "\u001b[1;32mc:\\Users\\echic\\Documents\\BMA\\4th 2nd\\Introduction to Programming\\Github\\projects-2023-EFS\\modelproject\\Tech_growth.py\u001b[0m in \u001b[0;36mfind_s_bracket\u001b[1;34m(par, sim, t, maxiter, do_print)\u001b[0m\n\u001b[0;32m    141\u001b[0m         \u001b[0mit\u001b[0m \u001b[1;33m+=\u001b[0m \u001b[1;36m1\u001b[0m\u001b[1;33m\u001b[0m\u001b[1;33m\u001b[0m\u001b[0m\n\u001b[0;32m    142\u001b[0m \u001b[1;33m\u001b[0m\u001b[0m\n\u001b[1;32m--> 143\u001b[1;33m     \u001b[1;32mraise\u001b[0m \u001b[0mException\u001b[0m\u001b[1;33m(\u001b[0m\u001b[1;34m'cannot find bracket for s'\u001b[0m\u001b[1;33m)\u001b[0m\u001b[1;33m\u001b[0m\u001b[1;33m\u001b[0m\u001b[0m\n\u001b[0m\u001b[0;32m    144\u001b[0m \u001b[1;33m\u001b[0m\u001b[0m\n\u001b[0;32m    145\u001b[0m \u001b[1;32mdef\u001b[0m \u001b[0mcalc_euler_error\u001b[0m\u001b[1;33m(\u001b[0m\u001b[0ms\u001b[0m\u001b[1;33m,\u001b[0m\u001b[0mpar\u001b[0m\u001b[1;33m,\u001b[0m\u001b[0msim\u001b[0m\u001b[1;33m,\u001b[0m\u001b[0mt\u001b[0m\u001b[1;33m)\u001b[0m\u001b[1;33m:\u001b[0m\u001b[1;33m\u001b[0m\u001b[1;33m\u001b[0m\u001b[0m\n",
      "\u001b[1;31mException\u001b[0m: cannot find bracket for s"
     ]
    }
   ],
   "source": [
    "s_min,s_max = find_s_bracket(par,sim,t=0,do_print=True);"
   ]
  },
  {
   "attachments": {},
   "cell_type": "markdown",
   "metadata": {},
   "source": [
    "**Call root-finder:**"
   ]
  },
  {
   "cell_type": "code",
   "execution_count": null,
   "metadata": {},
   "outputs": [],
   "source": [
    "obj = lambda s: calc_euler_error(s,par,sim,t=0)\n",
    "result = optimize.root_scalar(obj,bracket=(s_min,s_max),method='bisect')\n",
    "print(result)"
   ]
  },
  {
   "attachments": {},
   "cell_type": "markdown",
   "metadata": {},
   "source": [
    "**Check result:**"
   ]
  },
  {
   "cell_type": "code",
   "execution_count": null,
   "metadata": {},
   "outputs": [],
   "source": [
    "euler_error = calc_euler_error(result.root,par,sim,t=0)\n",
    "print(f'euler-error = {euler_error:.8f}')"
   ]
  },
  {
   "attachments": {},
   "cell_type": "markdown",
   "metadata": {},
   "source": [
    "### 2.4. <a id='toc2_4_'></a>[Full simulation](#toc0_)"
   ]
  },
  {
   "cell_type": "code",
   "execution_count": 22,
   "metadata": {},
   "outputs": [
    {
     "name": "stdout",
     "output_type": "stream",
     "text": [
      "simulation done in 0.02 secs\n"
     ]
    }
   ],
   "source": [
    "model.simulate()"
   ]
  },
  {
   "attachments": {},
   "cell_type": "markdown",
   "metadata": {},
   "source": [
    "**Check euler-errors:**"
   ]
  },
  {
   "cell_type": "code",
   "execution_count": 23,
   "metadata": {},
   "outputs": [
    {
     "name": "stdout",
     "output_type": "stream",
     "text": [
      "t =  0: euler-error = -0.00000000\n",
      "t =  1: euler-error = -0.00000000\n",
      "t =  2: euler-error = -0.00000000\n",
      "t =  3: euler-error = -0.00000000\n",
      "t =  4: euler-error = -0.00000000\n"
     ]
    }
   ],
   "source": [
    "for t in range(5):\n",
    "    LHS_Euler = sim.C1[t]**(-par.sigma)\n",
    "    RHS_Euler = (1+sim.rt[t+1])*par.beta * sim.C2[t+1]**(-par.sigma)\n",
    "    print(f't = {t:2d}: euler-error = {LHS_Euler-RHS_Euler:.8f}')"
   ]
  },
  {
   "attachments": {},
   "cell_type": "markdown",
   "metadata": {},
   "source": [
    "**Plot and check with analytical solution:**"
   ]
  },
  {
   "cell_type": "code",
   "execution_count": 33,
   "metadata": {},
   "outputs": [
    {
     "data": {
      "image/png": "[encoded data removed]",
      "text/plain": [
       "<Figure size 600x400 with 1 Axes>"
      ]
     },
     "metadata": {},
     "output_type": "display_data"
    }
   ],
   "source": [
    "fig = plt.figure(figsize=(6,6/1.5))\n",
    "ax = fig.add_subplot(1,1,1)\n",
    "ax.plot(model.sim.K_lag,label=r'$K_{t-1}$')\n",
    "ax.axhline(K_ss,ls='--',color='black',label='analytical steady state')\n",
    "ax.legend(frameon=True)\n",
    "fig.tight_layout()\n",
    "K_lag_old = model.sim.K_lag.copy()"
   ]
  },
  {
   "attachments": {},
   "cell_type": "markdown",
   "metadata": {},
   "source": [
    "**Task:** Test if the starting point matters?"
   ]
  },
  {
   "attachments": {},
   "cell_type": "markdown",
   "metadata": {},
   "source": [
    "**Additional check:** Not much should change with only small parameter changes. "
   ]
  },
  {
   "cell_type": "code",
   "execution_count": 25,
   "metadata": {},
   "outputs": [
    {
     "name": "stdout",
     "output_type": "stream",
     "text": [
      "simulation done in 0.03 secs\n"
     ]
    }
   ],
   "source": [
    "# a. production (close to cobb-douglas)\n",
    "par.production_function = 'ces'\n",
    "par.theta = 0.001\n",
    "\n",
    "# b. household (close to logarithmic)\n",
    "par.sigma = 1.1\n",
    "\n",
    "# c. goverment (weakly active)\n",
    "par.tau_w = 0.001\n",
    "par.tau_r = 0.001\n",
    "\n",
    "# d. simulate\n",
    "model.simulate()"
   ]
  },
  {
   "cell_type": "code",
   "execution_count": 32,
   "metadata": {},
   "outputs": [
    {
     "data": {
      "image/png": "[encoded data removed]",
      "text/plain": [
       "<Figure size 600x400 with 1 Axes>"
      ]
     },
     "metadata": {},
     "output_type": "display_data"
    }
   ],
   "source": [
    "fig = plt.figure(figsize=(6,6/1.5))\n",
    "ax = fig.add_subplot(1,1,1)\n",
    "ax.plot(model.sim.K_lag,label=r'$K_{t-1}$')\n",
    "ax.plot(K_lag_old,label=r'$K_{t-1}$ ($\\theta = 0.0, \\sigma = 1.0$, inactive government)')\n",
    "ax.axhline(K_ss,ls='--',color='black',label='analytical steady state (wrong)')\n",
    "ax.legend(frameon=True)\n",
    "fig.tight_layout()"
   ]
  },
  {
   "attachments": {},
   "cell_type": "markdown",
   "metadata": {},
   "source": [
    "## 3. <a id='toc3_'></a>[Active government](#toc0_)"
   ]
  },
  {
   "cell_type": "code",
   "execution_count": 27,
   "metadata": {},
   "outputs": [
    {
     "name": "stdout",
     "output_type": "stream",
     "text": [
      "initializing the model:\n",
      "calling .setup()\n",
      "calling .allocate()\n"
     ]
    }
   ],
   "source": [
    "model = OLGModelClass()\n",
    "par = model.par\n",
    "sim = model.sim"
   ]
  },
  {
   "attachments": {},
   "cell_type": "markdown",
   "metadata": {},
   "source": [
    "**Baseline:**"
   ]
  },
  {
   "cell_type": "code",
   "execution_count": 28,
   "metadata": {},
   "outputs": [
    {
     "name": "stdout",
     "output_type": "stream",
     "text": [
      "simulation done in 0.03 secs\n"
     ]
    }
   ],
   "source": [
    "model.simulate()"
   ]
  },
  {
   "cell_type": "code",
   "execution_count": 31,
   "metadata": {},
   "outputs": [
    {
     "data": {
      "image/png": "[encoded data removed]",
      "text/plain": [
       "<Figure size 600x400 with 1 Axes>"
      ]
     },
     "metadata": {},
     "output_type": "display_data"
    }
   ],
   "source": [
    "fig = plt.figure(figsize=(6,6/1.5))\n",
    "ax = fig.add_subplot(1,1,1)\n",
    "ax.plot(sim.K_lag/(sim.Y),label=r'$\\frac{K_{t-1}}{Y_t}$')\n",
    "ax.plot(sim.B_lag/(sim.Y),label=r'$\\frac{B_{t-1}}{Y_t}$')\n",
    "ax.legend(frameon=True)\n",
    "fig.tight_layout()"
   ]
  },
  {
   "attachments": {},
   "cell_type": "markdown",
   "metadata": {},
   "source": [
    "**Remember steady state:**"
   ]
  },
  {
   "cell_type": "code",
   "execution_count": null,
   "metadata": {},
   "outputs": [],
   "source": [
    "K_ss = sim.K_lag[-1]\n",
    "B_ss = sim.B_lag[-1]\n",
    "G_ss = sim.G[-1]"
   ]
  },
  {
   "attachments": {},
   "cell_type": "markdown",
   "metadata": {},
   "source": [
    "**Spending spree of 5% in $T=3$ periods:**"
   ]
  },
  {
   "cell_type": "code",
   "execution_count": null,
   "metadata": {},
   "outputs": [],
   "source": [
    "# a. start from steady state\n",
    "par.K_lag_ini = K_ss\n",
    "par.B_lag_ini = B_ss\n",
    "\n",
    "# b. spending spree\n",
    "T0 = 0\n",
    "dT = 3\n",
    "sim.G[T0:T0+dT] = 1.05*G_ss\n",
    "sim.balanced_budget[:T0] = True #G adjusts\n",
    "sim.balanced_budget[T0:T0+dT] = False # B adjusts\n",
    "sim.balanced_budget[T0+dT:] = True # G adjusts"
   ]
  },
  {
   "attachments": {},
   "cell_type": "markdown",
   "metadata": {},
   "source": [
    "**Simulate:**"
   ]
  },
  {
   "cell_type": "code",
   "execution_count": null,
   "metadata": {},
   "outputs": [],
   "source": [
    "model.simulate()"
   ]
  },
  {
   "attachments": {},
   "cell_type": "markdown",
   "metadata": {},
   "source": [
    "**Crowding-out of capital:**"
   ]
  },
  {
   "cell_type": "code",
   "execution_count": null,
   "metadata": {},
   "outputs": [],
   "source": [
    "fig = plt.figure(figsize=(6,6/1.5))\n",
    "ax = fig.add_subplot(1,1,1)\n",
    "ax.plot(sim.K/(sim.Y),label=r'$\\frac{K_{t-1}}{Y_t}$')\n",
    "ax.plot(sim.B/(sim.Y),label=r'$\\frac{B_{t-1}}{Y_t}$')\n",
    "ax.legend(frameon=True)\n",
    "fig.tight_layout()"
   ]
  },
  {
   "attachments": {},
   "cell_type": "markdown",
   "metadata": {},
   "source": [
    "**Question:** Would the households react today if the spending spree is say 10 periods in the future? "
   ]
  },
  {
   "attachments": {},
   "cell_type": "markdown",
   "metadata": {},
   "source": [
    "## 4. <a id='toc4_'></a>[Extension: Technology Growth](#toc0_)"
   ]
  },
  {
   "cell_type": "code",
   "execution_count": 30,
   "metadata": {},
   "outputs": [
    {
     "name": "stdout",
     "output_type": "stream",
     "text": [
      "simulation done in 0.02 secs\n"
     ]
    }
   ],
   "source": [
    "\"Growth rate of technology\"\n",
    "f = 0.05\n",
    "model.simulate(f)"
   ]
  },
  {
   "attachments": {},
   "cell_type": "markdown",
   "metadata": {},
   "source": [
    "**Potential analysis:**\n",
    "\n",
    "1. Over-accumulation of capital relative to golden rule?\n",
    "2. Calibration to actual data\n",
    "3. Generational inequality\n",
    "4. Multiple equilibria"
   ]
  },
  {
   "attachments": {},
   "cell_type": "markdown",
   "metadata": {},
   "source": [
    "**Extensions:**\n",
    "\n",
    "1. Add population and technology growth\n",
    "2. More detailed tax and transfer system\n",
    "3. Utility and productive effect of government consumption/investment\n",
    "4. Endogenous labor supply\n",
    "5. Bequest motive\n",
    "6. Uncertain returns on capital\n",
    "7. Additional assets (e.g. housing)\n",
    "8. More than two periods in the life-cycle (life-cycle)\n",
    "9. More than one dynasty (cross-sectional inequality dynamics)"
   ]
  }
 ],
 "metadata": {
  "kernelspec": {
   "display_name": "base",
   "language": "python",
   "name": "python3"
  },
  "language_info": {
   "codemirror_mode": {
    "name": "ipython",
    "version": 3
   },
   "file_extension": ".py",
   "mimetype": "text/x-python",
   "name": "python",
   "nbconvert_exporter": "python",
   "pygments_lexer": "ipython3",
   "version": "3.9.16"
  },
  "toc-autonumbering": true,
  "vscode": {
   "interpreter": {
    "hash": "47ef90cdf3004d3f859f1fb202523c65c07ba7c22eefd261b181f4744e2d0403"
   }
  }
 },
 "nbformat": 4,
 "nbformat_minor": 4
}
