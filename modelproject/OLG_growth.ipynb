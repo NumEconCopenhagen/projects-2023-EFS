{
 "cells": [
  {
   "attachments": {},
   "cell_type": "markdown",
   "metadata": {},
   "source": [
    "# Model Project:\n",
    "# Overlapping Generation Model, with population growth"
   ]
  },
  {
   "attachments": {},
   "cell_type": "markdown",
   "metadata": {},
   "source": [
    "In this project we simulate a version of the Overlapping Generations (OLG) model, extended with **population growth**.\n",
    "    \n",
    "In a first step we will solve part of the model analytically, to find the optimal level of savings in the simplified situation of Logarithmic utility and Cobb Douglass production function.\n",
    "      \n",
    "Mantaining this basic setting we will then attemp to find a numerical solution for the optimal saving rate; we will check the correctness of the results by plotting the dynamics of the level of capital in time and confronting it to the level we expect from theoretical derivations (the **steady-state level of capital**).\n",
    "  \n",
    "We will encounter some unexpected behaviour and give our explanation to it."
   ]
  },
  {
   "attachments": {},
   "cell_type": "markdown",
   "metadata": {},
   "source": [
    "**Table of contents**<a id='toc0_'></a>    \n",
    "- 0. [Setup](#toc0_) \n",
    "- 1. [Model description](#toc1_)    \n",
    "  - 1.1. [Method of solution](#toc1_1_)    \n",
    "- 2. [Analytical solution](#toc2_)    \n",
    "- 3. [Numerical solution](#toc3_)    \n",
    "\n",
    "<!-- vscode-jupyter-toc-config\n",
    "\tnumbering=true\n",
    "\tanchor=true\n",
    "\tflat=false\n",
    "\tminLevel=2\n",
    "\tmaxLevel=6\n",
    "\t/vscode-jupyter-toc-config -->\n",
    "<!-- THIS CELL WILL BE REPLACED ON TOC UPDATE. DO NOT WRITE YOUR TEXT IN THIS CELL -->"
   ]
  },
  {
   "attachments": {},
   "cell_type": "markdown",
   "metadata": {},
   "source": [
    "## 0. <a id='toc0_'></a>[Setup](#toc0_)"
   ]
  },
  {
   "attachments": {},
   "cell_type": "markdown",
   "metadata": {},
   "source": [
    "In the following cell we import the necessary packages and fix some general settings:"
   ]
  },
  {
   "cell_type": "code",
   "execution_count": 1,
   "metadata": {},
   "outputs": [],
   "source": [
    "# import the autoreload functionality\n",
    "%load_ext autoreload\n",
    "%autoreload 2\n",
    "\n",
    "# import numpy\n",
    "import numpy as np\n",
    "\n",
    "# imports display tool\n",
    "from IPython.display import display\n",
    "\n",
    "# imports and setup graph tools\n",
    "from OLG_growth_model import capital_accumulation_plot # ad-hoc capital accumulation graph plot\n",
    "from OLG_growth_model import population_plot # ad-hoc capital population growth plot\n",
    "import matplotlib.pyplot as plt\n",
    "plt.rcParams.update({\"axes.grid\":True,\"grid.color\":\"black\",\"grid.alpha\":\"0.25\",\"grid.linestyle\":\"--\"})\n",
    "plt.rcParams.update({'font.size': 14})\n",
    "\n",
    "# imports the class for the model\n",
    "from OLG_growth_model import OLGModelClass\n",
    "\n",
    "# imports symbolic math tools\n",
    "import sympy as sm\n"
   ]
  },
  {
   "attachments": {},
   "cell_type": "markdown",
   "metadata": {},
   "source": [
    "## 1. <a id='toc1_'></a>[Model description](#toc1_)"
   ]
  },
  {
   "attachments": {},
   "cell_type": "markdown",
   "metadata": {},
   "source": [
    "*In this chapter we report the mathematical description of model.*\n",
    "*The main structure of the model has been recovered from the \"Introduction to programmin and numerycal analysis\" lecture notes.*\n",
    "*The main changes made are highlighted in red.*\n",
    "\n",
    "*In the whole descrpition capital letters are aggregate variables.*"
   ]
  },
  {
   "attachments": {},
   "cell_type": "markdown",
   "metadata": {},
   "source": [
    "**Time:** Discrete and indexed by $t\\in\\{0,1,\\dots\\}$."
   ]
  },
  {
   "attachments": {},
   "cell_type": "markdown",
   "metadata": {},
   "source": [
    "**Demographics:** <font color=red>  \n",
    "A life consists of two periods, *young* and *old*. \n",
    "Young population at time $t$ is $L_t$, while old population is $L_{t-1}$. Population growth rate is n, so that:\n",
    "\n",
    "$$\n",
    "\\begin{aligned}\n",
    "L_t & = L_{t-1}(1+n) \\\\ \n",
    "\\text{with}\\ n &>-1\n",
    "\\end{aligned}\n",
    "$$\n",
    "</font>"
   ]
  },
  {
   "attachments": {},
   "cell_type": "markdown",
   "metadata": {},
   "source": [
    "**Households:** \n",
    "No unemployment is assumed in the young population so labour market clears, with $L_t$ equal to $N_t$, which represents the employed workers in the economy. Each individual supplies one unit of labour. \n",
    "At the aggregate level, young individuals earn a <font color=blue>after tax wage</font> $(1-\\tau_w)w_{t}N_{t}$.<br>\n",
    "Consumption as young and old are denoted by $C_{1t}$ and $C_{2t+1}$. \n",
    "The <font color=blue>after-tax return on saving</font> is $(1-\\tau_{r})r_{t+1}$.<br>\n",
    "The household decision problem can be represented as following:\n",
    "    \n",
    "$$\n",
    "\\begin{aligned}\n",
    "U & =\\max_{s_{t}\\in[0,1]}\\frac{C_{1t}^{1-\\sigma}}{1-\\sigma}+\\beta\\frac{C_{2t+1}^{1-\\sigma}}{1-\\sigma},\\,\\,\\,\\beta > -1, \\sigma > 0\\\\\n",
    " & \\text{s.t.}\\\\\n",
    " & S_{t}=s_{t}(1-\\tau_{w})w_{t}N_{t}\\\\\n",
    " & C_{1t}=(1-s_{t})(1-\\tau_{w})w_{t}N_{t}\\\\\n",
    " & C_{2t+1}=(1+(1-\\tau_{r})r_{t+1})S_{t}\n",
    "\\end{aligned}\n",
    "$$\n",
    "\n",
    "In case of $\\sigma=1$ we have logarithmic utility and the intertemporal utility function becomes:\n",
    "\n",
    "$$\n",
    "\\begin{aligned}\n",
    "U & = log{C_{1t}}+\\beta(log{C_{2t+1}}),\\,\\,\\,\\beta > -1\\\\\n",
    "\\end{aligned}\n",
    "$$\n",
    "\n",
    "Where $r_{t}$ is the <font color=blue>interest rate on savings</font>, $S_{t}$ are the <font color=blue>total savings</font> and $s_{t}$ is the <font color=blue>saving rate</font>.\n",
    "The problem is formulated in terms of the saving rate $s_t\\in[0,1]$."
   ]
  },
  {
   "attachments": {},
   "cell_type": "markdown",
   "metadata": {},
   "source": [
    "**Firms:** Firms rent capital $K_{t-1}$ at the <font color=blue>rental rate</font> $r_{t}^{K}$,\n",
    "and hires labor $N_{t}$ at the <font color=blue>wage rate</font> $w_{t}$. Firms have access\n",
    "to the CES production function:\n",
    "$$\n",
    "\\begin{aligned}\n",
    "Y_{t}=F(K_{t-1},L_{t})= \\left( \\gamma K_{t-1}^{-\\theta}+(1-\\gamma)L_{t}^{-\\theta} \\right)^{\\frac{1}{-\\theta}},\\,\\,\\,\\theta>-1,\\gamma\\in(0,1)\n",
    "\\end{aligned}\n",
    "$$\n",
    "\n",
    "We'll focus on the special case of Cobb-Douglas production function:\n",
    "\n",
    "$$\n",
    "\\begin{aligned}\n",
    "Y_{t}=F(K_{t-1},L_{t})=A_tK_{t-1}^{\\alpha}L_{t}^{1-\\alpha}\n",
    "\\end{aligned}\n",
    "$$\n",
    "\n",
    "    \n",
    "<font color=blue>Profits</font> are\n",
    "    \n",
    "$$\n",
    "\\begin{aligned}\n",
    "\\Pi_{t}=Y_{t}-w_{t}L_{t}-r_{t}^{K}K_{t-1}\n",
    "\\end{aligned}\n",
    "$$"
   ]
  },
  {
   "attachments": {},
   "cell_type": "markdown",
   "metadata": {},
   "source": [
    "**Government:** Choose <font color=blue>public consumption (expenditure)</font>, $G_{t}$, and <font color=blue>(income) tax rates</font> $\\tau_w \\in [0,1]$ and $\\tau_r \\in [0,1]$. <font color=blue>Total tax revenue</font> is\n",
    "    \n",
    "$$\n",
    "\\begin{aligned}\n",
    "T_{t} &=\\tau_r r_{t} (K_{t-1}+B_{t-1})+\\tau_w w_{t}N_{t}   \n",
    "\\end{aligned}\n",
    "$$\n",
    "\n",
    "Where $B_{t-1}$ is the <font color=blue>value of bond outstanding</font>.\n",
    "Government debt accumulates according to\n",
    "    \n",
    "$$\n",
    "\\begin{aligned}\n",
    "B_{t} &=(1+r^b_{t})B_{t-1}-T_{t}+G_{t} \n",
    "\\end{aligned}\n",
    "$$\n",
    "\n",
    "Where $r^b_{t}$ \n",
    "A *balanced budget* implies $G_{t}=T_{t}-r_{t}B_{t-1}$."
   ]
  },
  {
   "cell_type": "markdown",
   "metadata": {},
   "source": [
    "**Capital:** Depreciates with a rate of $\\delta \\in [0,1]$."
   ]
  },
  {
   "attachments": {},
   "cell_type": "markdown",
   "metadata": {},
   "source": [
    "**At equilibrium:**\n",
    "\n",
    "1. Households maximize utility\n",
    "2. Firms maximize profits\n",
    "3. No-arbitrage between bonds and capital\n",
    "\n",
    "    $$\n",
    "    r_{t}=r_{t}^{K}-\\delta=r_{t}^{b}\n",
    "    $$\n",
    "\n",
    "4. Labor market clears: $L_{t}=N_{t}$\n",
    "5. Goods market clears: $Y_{t}=C_{1t}+C_{2t}+G_{t}+I_{t}$\n",
    "6. Asset market clears: $S_{t}=K_{t}+B_{t}$\n",
    "7. Capital follows its law of motion: $K_{t}=(1-\\delta)K_{t-1}+I_{t}$\n",
    "\n",
    "Where $I_{t}$ is investment."
   ]
  },
  {
   "attachments": {},
   "cell_type": "markdown",
   "metadata": {},
   "source": [
    "### 1.1. <a id='toc1_1_'></a>[Method of solution](#toc0_)"
   ]
  },
  {
   "attachments": {},
   "cell_type": "markdown",
   "metadata": {},
   "source": [
    "*In this sub-chapter we illustrate the further derivations to find the optimal value of the saving rate and a schetch of the algorithm that is going to be utilized to find the numerical solution:*"
   ]
  },
  {
   "attachments": {},
   "cell_type": "markdown",
   "metadata": {},
   "source": [
    "**Implication of profit maximization**  \n",
    "\n",
    "The solution to the firm problem results in the following FOC's:\n",
    "\n",
    "$$\n",
    "\\begin{aligned}\n",
    "r_{t}^{k} & =F_{K}(K_{t-1},L_{t})=\\alpha K_{t-1}^{-\\theta-1}Y_{t}^{1+\\theta}\\\\\n",
    "w_{t} & =F_{E}(K_{t-1},L_{t})=(1-\\alpha)L_{t}^{-\\theta-1}Y_{t}^{1+\\theta}\n",
    "\\end{aligned}\n",
    "$$\n",
    "\n",
    "**Implication of utility maximization**  \n",
    "\n",
    "The solution to the household problem results in the following condition, called the Euler equation:\n",
    "\n",
    "$$\n",
    "\\begin{aligned}\n",
    "C_{1t}^{-\\sigma}=\\beta (1+(1-\\tau_r)r_{t+1})C_{2t+1}^{-\\sigma}\n",
    "\\end{aligned}\n",
    "$$"
   ]
  },
  {
   "attachments": {},
   "cell_type": "markdown",
   "metadata": {},
   "source": [
    "*To solve the model numerycally we proceed with two different algorithmic tools: a simulation and a solution finder:*  \n",
    "\n",
    "- *The simulation permits the calculation of all the parameters values, beside $s_t$.*\n",
    "\n",
    "- *The solution finder search for the optimal value of $s_t$ such that, given the known parameters at time $t$, utility is optimized at all periods of the household lifetime: it basically means optimizing the Euler equation.*"
   ]
  },
  {
   "attachments": {},
   "cell_type": "markdown",
   "metadata": {},
   "source": [
    "**Simulation algorithm:**  \n",
    "At the beginning of period $t$, the economy can be summarized in the state variables $K_{t-1}$ and $B_{t-1}$.<br>\n",
    "\n",
    "*Before* $s_t$ is known, we can calculate:\n",
    "\n",
    "$$\n",
    "\\begin{aligned}\n",
    "Y_{t} & =F(K_{t-1},L_t)\\\\\n",
    "r_{t}^{k} & =F_{K}(K_{t-1},1)\\\\\n",
    "w_{t} & =F_{L}(K_{t-1},1)\\\\\n",
    "r_{t} & =r^k_{t}-\\delta\\\\\n",
    "r_{t}^{b} & =r_{t}\\\\\n",
    "\\tilde{r}_{t} & =(1-\\tau_{r})r_{t}\\\\\n",
    "C_{2t} & =(1+\\tilde{r}_{t})(K_{t-1}+B_{t-1})\\\\\n",
    "T_{t} & =\\tau_{r}r_{t}(K_{t-1}+B_{t-1})+\\tau_{w}w_{t}\\\\\n",
    "B_{t} & =(1+r^b_{t})B_{t-1}+T_{t}-G_{t}\\\\\n",
    "L_{t} & = L_{t-1}(1+n)\\\\\n",
    "\\end{aligned}\n",
    "$$\n",
    "\n",
    "*After* $s_t$ is known we can calculate:\n",
    "\n",
    "$$\n",
    "\\begin{aligned}\n",
    "C_{1t} & = (1-s_{t})(1-\\tau_{w})w_{t}\\\\\n",
    "I_{t} & =Y_{t}-C_{1t}-C_{2t}-G_{t}\\\\\n",
    "K_{t} & =(1-\\delta)K_{t-1} + I_t\n",
    "\\end{aligned}\n",
    "$$\n",
    "\n",
    "**Solution algorithm:** Simulate forward choosing $s_{t}$ so\n",
    "that we always have:\n",
    "\n",
    "$$\n",
    "\\begin{aligned}\n",
    "C_{1t}^{-\\sigma}=\\beta(1+\\tilde{r}_{t+1})C_{2t+1}^{-\\sigma}\n",
    "\\end{aligned}\n",
    "$$"
   ]
  },
  {
   "attachments": {},
   "cell_type": "markdown",
   "metadata": {},
   "source": [
    "## 2. <a id='toc1_2_'></a>[Analytical solution](#toc0_)"
   ]
  },
  {
   "attachments": {},
   "cell_type": "markdown",
   "metadata": {},
   "source": [
    "*At first we attempt to solve part of the model analytically.* \n",
    "\n",
    "*We try to find the optimal saving rate, given logarithmic period utility function.*  \n",
    "\n",
    "*For this purpose we import a function made ad-hoc to solve the household problem analitycally while showing each step of the derivation.*  \n",
    "*The function provides also characterization to get the final value of the saving rate.*  \n",
    "*The optimal value of $s_t$ is determined, given the value of $\\beta$ which can be chosen when calling the solver function:*"
   ]
  },
  {
   "cell_type": "code",
   "execution_count": 2,
   "metadata": {},
   "outputs": [
    {
     "name": "stdout",
     "output_type": "stream",
     "text": [
      "Objective function:\n"
     ]
    },
    {
     "data": {
      "text/latex": [
       "$\\displaystyle \\beta \\log{\\left(C_{2t+1} \\right)} + \\log{\\left(c_{1t} \\right)}$"
      ],
      "text/plain": [
       "beta*log(C_{2t+1}) + log(c_{1t})"
      ]
     },
     "metadata": {},
     "output_type": "display_data"
    },
    {
     "name": "stdout",
     "output_type": "stream",
     "text": [
      "\n",
      "\n",
      "Budget constraints:\n"
     ]
    },
    {
     "data": {
      "text/latex": [
       "$\\displaystyle N_{t} s_{t} w_{t} \\left(1 - \\tau_{w}\\right) = S_{t}$"
      ],
      "text/plain": [
       "Eq(N_{t}*s_t*w_t*(1 - tau_w), S_t)"
      ]
     },
     "metadata": {},
     "output_type": "display_data"
    },
    {
     "data": {
      "text/latex": [
       "$\\displaystyle N_{t} w_{t} \\left(1 - s_{t}\\right) \\left(1 - \\tau_{w}\\right) = c_{1t}$"
      ],
      "text/plain": [
       "Eq(N_{t}*w_t*(1 - s_t)*(1 - tau_w), c_{1t})"
      ]
     },
     "metadata": {},
     "output_type": "display_data"
    },
    {
     "data": {
      "text/latex": [
       "$\\displaystyle S_{t} \\left(r_{t+1} \\cdot \\left(1 - \\tau_{r}\\right) + 1\\right) = C_{2t+1}$"
      ],
      "text/plain": [
       "Eq(S_t*(r_{t+1}*(1 - tau_r) + 1), C_{2t+1})"
      ]
     },
     "metadata": {},
     "output_type": "display_data"
    },
    {
     "name": "stdout",
     "output_type": "stream",
     "text": [
      "\n",
      "\n",
      "Substitution of St inside function for consumption of old agents:\n"
     ]
    },
    {
     "data": {
      "text/latex": [
       "$\\displaystyle N_{t} s_{t} w_{t} \\left(1 - \\tau_{w}\\right) \\left(r_{t+1} \\cdot \\left(1 - \\tau_{r}\\right) + 1\\right) = C_{2t+1}$"
      ],
      "text/plain": [
       "Eq(N_{t}*s_t*w_t*(1 - tau_w)*(r_{t+1}*(1 - tau_r) + 1), C_{2t+1})"
      ]
     },
     "metadata": {},
     "output_type": "display_data"
    },
    {
     "name": "stdout",
     "output_type": "stream",
     "text": [
      "\n",
      "\n",
      "Substitution of old and young consumption inside objective function:\n"
     ]
    },
    {
     "data": {
      "text/latex": [
       "$\\displaystyle \\beta \\log{\\left(N_{t} s_{t} w_{t} \\left(r_{t+1} \\tau_{r} \\tau_{w} - r_{t+1} \\tau_{r} - r_{t+1} \\tau_{w} + r_{t+1} - \\tau_{w} + 1\\right) \\right)} + \\log{\\left(N_{t} w_{t} \\left(s_{t} \\tau_{w} - s_{t} - \\tau_{w} + 1\\right) \\right)}$"
      ],
      "text/plain": [
       "beta*log(N_{t}*s_t*w_t*(r_{t+1}*tau_r*tau_w - r_{t+1}*tau_r - r_{t+1}*tau_w + r_{t+1} - tau_w + 1)) + log(N_{t}*w_t*(s_t*tau_w - s_t - tau_w + 1))"
      ]
     },
     "metadata": {},
     "output_type": "display_data"
    },
    {
     "name": "stdout",
     "output_type": "stream",
     "text": [
      "\n",
      "\n",
      "FOC of objective modified function wrt st:\n"
     ]
    },
    {
     "data": {
      "text/latex": [
       "$\\displaystyle \\frac{\\beta}{s_{t}} + \\frac{\\tau_{w} - 1}{s_{t} \\tau_{w} - s_{t} - \\tau_{w} + 1}$"
      ],
      "text/plain": [
       "beta/s_t + (tau_w - 1)/(s_t*tau_w - s_t - tau_w + 1)"
      ]
     },
     "metadata": {},
     "output_type": "display_data"
    },
    {
     "name": "stdout",
     "output_type": "stream",
     "text": [
      "\n",
      "\n",
      "Value of st that solves FOC=0:\n"
     ]
    },
    {
     "data": {
      "text/latex": [
       "$\\displaystyle \\frac{\\beta}{\\beta + 1}$"
      ],
      "text/plain": [
       "beta/(beta + 1)"
      ]
     },
     "metadata": {},
     "output_type": "display_data"
    },
    {
     "name": "stdout",
     "output_type": "stream",
     "text": [
      "\n",
      "\n",
      "Optimal value of st for beta = 0.7142857142857143:\n"
     ]
    },
    {
     "data": {
      "text/plain": [
       "0.41666666666666663"
      ]
     },
     "metadata": {},
     "output_type": "display_data"
    }
   ],
   "source": [
    "from Analytical_solver import log_analytic # imports ad-hoc analytical solver for optimal saving rate\n",
    "\n",
    "log_analytic() # call ad-hoc analytical solver with beta parameter value = 1/1.4 (default)"
   ]
  },
  {
   "attachments": {},
   "cell_type": "markdown",
   "metadata": {},
   "source": [
    "We'll in the next step, that the simulation of the model trough the algorithms will yield the same value of $s$, when the settings are the same (same values of $\\beta,\\sigma,\\theta$)."
   ]
  },
  {
   "attachments": {},
   "cell_type": "markdown",
   "metadata": {},
   "source": [
    "## 3. <a id='toc1_4_'></a>[Numerical solution](#toc0_)"
   ]
  },
  {
   "attachments": {},
   "cell_type": "markdown",
   "metadata": {},
   "source": [
    "Here we apply the simulation and solution algorithms described above to find the optimal value of the saving rate. \n",
    "\n",
    "The algorithms presented is an extension of the \"Introduction to programming\", \"OLG\" lecture, and is stored in the py file \"OLG_growth_model\" in the project folder.\n",
    "\n",
    "We simulate the model for 50 periods, while using some simplifying assumption:\n",
    "\n",
    "- The period utility function is logarithmic (CRRA utility with $\\sigma = 1$)\n",
    "\n",
    "- The production function is of the Cobb Douglas type (CES production with $\\theta = 0$)\n",
    "\n",
    "To check the validity of the optimal savings selected by the algorithm we are going to confront the level of capital accumulated across a long period of time, with the steady state level of capital (which is the theoretical expected value of capital in the long run):  in this simplifiend special LOG/CD setting the capital level accumulated should converge to the expected steady state level, in the long run.\n",
    "\n",
    "*The expected steady state level, when population is growing, can be defined as:*\n",
    "\n",
    "$$ \\lim_{t\\rightarrow\\infty} K_t = \\left(\\frac{1-\\alpha}{(1+n)(1+1/\\beta)}\\right)^{\\frac{1}{1-\\alpha}} $$"
   ]
  },
  {
   "cell_type": "code",
   "execution_count": 3,
   "metadata": {},
   "outputs": [
    {
     "data": {
      "text/latex": [
       "$\\displaystyle \\left(\\frac{1 - \\alpha}{\\left(1 + \\frac{1}{\\beta}\\right) \\left(n + 1\\right)}\\right)^{\\frac{1}{1 - \\alpha}}$"
      ],
      "text/plain": [
       "((1 - alpha)/((1 + 1/beta)*(n + 1)))**(1/(1 - alpha))"
      ]
     },
     "metadata": {},
     "output_type": "display_data"
    },
    {
     "name": "stdout",
     "output_type": "stream",
     "text": [
      "For alpha = 0.5;\n",
      "beta = 0.7142857142857143;\n",
      "n = 0.1;\n",
      "Steady state value of capital, k_ss =\n"
     ]
    },
    {
     "data": {
      "text/plain": [
       "0.035870064279155185"
      ]
     },
     "metadata": {},
     "output_type": "display_data"
    }
   ],
   "source": [
    "from Analytical_solver import steady_state # imports ad-hoc analytical solver for steady state capital\n",
    "\n",
    "steady_state() # call ad-hoc analytical solver with default values of beta, alpha and n"
   ]
  },
  {
   "attachments": {},
   "cell_type": "markdown",
   "metadata": {},
   "source": [
    "We will:\n",
    "1) create an instance of the model and setup the parameters as desired;  \n",
    "\n",
    "2) check that the Euler equation is respected by calculating the difference between the left hand and right hand sides of the equaation at each period;  \n",
    "\n",
    "3) plot a graph showing the level of capital across periods and check if it converges to the predicted steady state level.  "
   ]
  },
  {
   "attachments": {},
   "cell_type": "markdown",
   "metadata": {},
   "source": [
    "**1) Creating model istance - Setting up parameters - Running model simulation**\n",
    "\n",
    "We are going to define the initial value of capital as respect to the steady state theoretical level in order to check for correct convergence from both above and below the long-run expected level. We'll do this in two separated steps."
   ]
  },
  {
   "cell_type": "code",
   "execution_count": 4,
   "metadata": {},
   "outputs": [
    {
     "name": "stdout",
     "output_type": "stream",
     "text": [
      "initializing the model:\n",
      "calling .setup()\n",
      "calling .allocate()\n",
      "\n",
      "simulation done in 0.09 secs\n",
      "\n",
      "optimal saving rate in period 49 = 0.416667\n",
      "\n",
      "steady-state capital level = 0.035870064279155185\n"
     ]
    }
   ],
   "source": [
    "# create an instance of the model\n",
    "model = OLGModelClass()\n",
    "\n",
    "# rename model parameters and simulation attributes\n",
    "par = model.par \n",
    "sim = model.sim \n",
    "\n",
    "# define production parameters\n",
    "par.production_function = 'cobb-douglas'\n",
    "par.theta = 0.0\n",
    "par.alpha = 0.5\n",
    "\n",
    "# define growth parameters\n",
    "par.n = 0.1\n",
    "\n",
    "# define households utility parameter\n",
    "par.sigma = 1.0\n",
    "par.beta = 1.0/(1.0+0.4)\n",
    "\n",
    "par.k_ss = ((1-par.alpha)/((1+par.n)*(1+1.0/par.beta)))**(1/(1-par.alpha)) # steady-state level of capital for Log utility and Cobb Douglas production\n",
    "\n",
    "# define government parameters\n",
    "par.tau_w = 0.0\n",
    "par.tau_r = 0.0\n",
    "sim.balanced_budget[:] = True # The value of G is changed in order to mantain respect budget constraint\n",
    "\n",
    "# define values of capital and population\n",
    "par.K_lag_ini = 0.5*par.k_ss # as respect to the steady state\n",
    "par.L_lag_ini = 1.0\n",
    "\n",
    "# simulate the model\n",
    "model.simulate()\n",
    "\n",
    "# print steady_state value of capital\n",
    "print(f'\\nsteady-state capital level = {par.k_ss}')"
   ]
  },
  {
   "attachments": {},
   "cell_type": "markdown",
   "metadata": {},
   "source": [
    "As we can see, when the value of the baseline parameters are the same, the analytical results derived before for the **optimal rate of savings** and the **steady-state level of capital**, are confirmed by the results of the numerical solver: the values are the same."
   ]
  },
  {
   "attachments": {},
   "cell_type": "markdown",
   "metadata": {},
   "source": [
    "**2) Showing that the euler equation is being respected at each period:**\n",
    "\n",
    " We selected a random interval in the 50 period simulation (from period 40 to 45) to calculate the difference between the LHS and RHS of the euler equation when $s_t$ has been estimated by the algorithm. The result we expect is 0 at each period, since the Euler must be always respected."
   ]
  },
  {
   "cell_type": "code",
   "execution_count": 5,
   "metadata": {},
   "outputs": [
    {
     "name": "stdout",
     "output_type": "stream",
     "text": [
      "t = 40: euler-error = -0.00000000\n",
      "t = 41: euler-error = -0.00000000\n",
      "t = 42: euler-error = -0.00000000\n",
      "t = 43: euler-error = -0.00000000\n",
      "t = 44: euler-error = -0.00000000\n"
     ]
    }
   ],
   "source": [
    "for t in range(40,45): #select random period interval for inspection (between 0-49: here 40-45)\n",
    "    LHS_Euler = sim.C1[t]**(-par.sigma) #define LHS of euler equation\n",
    "    RHS_Euler = (1+sim.rt[t+1])*par.beta * sim.C2[t+1]**(-par.sigma) #define RHS of euler equation\n",
    "    print(f't = {t:2d}: euler-error = {LHS_Euler-RHS_Euler:.8f}') #print some text and the value of the LHS, RHS difference"
   ]
  },
  {
   "attachments": {},
   "cell_type": "markdown",
   "metadata": {},
   "source": [
    "**3) Plot capital accumulation and compare it to the analytical steady state defined above:**\n",
    "\n",
    "We created two ad-hoc function inside OLG_growth_model.py to plot: \n",
    "- the capital accumulation graph against the expected steady-state level. \n",
    "- the growth of the population level in time; \n",
    "\n",
    "Here we use the two function to plot the capital and population dynamics of the previously simulated model:"
   ]
  },
  {
   "cell_type": "code",
   "execution_count": 6,
   "metadata": {},
   "outputs": [
    {
     "data": {
      "image/png": "[encoded data removed]",
      "text/plain": [
       "<Figure size 600x400 with 1 Axes>"
      ]
     },
     "metadata": {},
     "output_type": "display_data"
    },
    {
     "data": {
      "image/png": "[encoded data removed]",
      "text/plain": [
       "<Figure size 600x400 with 1 Axes>"
      ]
     },
     "metadata": {},
     "output_type": "display_data"
    }
   ],
   "source": [
    "population_plot(par,sim)# plot population growth graph, against steady state level,\n",
    "capital_accumulation_plot(par,sim) # plot capital accumulation graph, against steady state level, with parameters values as defined before"
   ]
  },
  {
   "attachments": {},
   "cell_type": "markdown",
   "metadata": {},
   "source": [
    "We see how $L_t$ and $k_{t}$ evolve over 50 periods.\n",
    "\n",
    "Population, evidently, is growing.\n",
    "\n",
    "The capital accumulation dynamic confirms the theoretically derived expectations for the long run: **the per-worker capital level converges after less than ten years to the predicted steady-state level**. \n",
    "\n",
    "The convergence happens from the bottom up, as we expected since, we imposed a lower than steady-state level of capital as a starting point."
   ]
  },
  {
   "attachments": {},
   "cell_type": "markdown",
   "metadata": {},
   "source": [
    "**4) Testing changes in parameters**\n",
    "\n",
    "We check that the behaviour is still confirmed when slightly changing some baseline parameters and imposing a starting level of capital, this time higher than the steady-state level."
   ]
  },
  {
   "cell_type": "code",
   "execution_count": 7,
   "metadata": {},
   "outputs": [
    {
     "name": "stdout",
     "output_type": "stream",
     "text": [
      "initializing the model:\n",
      "calling .setup()\n",
      "calling .allocate()\n",
      "\n",
      "simulation done in 0.10 secs\n",
      "\n",
      "optimal saving rate in period 49 = 0.416667\n"
     ]
    },
    {
     "data": {
      "image/png": "[encoded data removed]",
      "text/plain": [
       "<Figure size 600x400 with 1 Axes>"
      ]
     },
     "metadata": {},
     "output_type": "display_data"
    }
   ],
   "source": [
    "model2 = OLGModelClass() # a new model istance\n",
    "par2 = model2.par \n",
    "sim2 = model2.sim\n",
    "\n",
    "# Redefining initial capital as respect to steady state\n",
    "par2.production_function = 'ces'\n",
    "par2.theta = 0.001\n",
    "par2.n = 0.5\n",
    "par2.alpha = 0.6\n",
    "par2.k_ss = ((1-par2.alpha)/((1+par2.n)*(1+1.0/par2.beta)))**(1/(1-par2.alpha)) # steady-state level of capital for Log utility and Cobb Douglas production\n",
    "par2.K_lag_ini = 10*par2.k_ss\n",
    "\n",
    "# simulate the model\n",
    "model2.simulate()\n",
    "capital_accumulation_plot(par2,sim2)"
   ]
  },
  {
   "attachments": {},
   "cell_type": "markdown",
   "metadata": {},
   "source": [
    "The results confirm the good behaviour of the model solver: capital converges closely to the steady-state level, this time from above, since the starting capital endowment was higher than the steady-state level. The change in population growth is not affecting the possibility of convergence but the level at which convergence happen (it both affects the capital dynamic and the theoretical steady-state).\n",
    "\n",
    "We have to point out, that changing the value of $\\sigma$ would result, anyhow, in a slight difference between theoretical steady-state level and actual point level of convergence. This is an expected result: the theoretical formula provided is derived by assuming the special case of Log period utility and cobb-douglas production. When sigma diverges from 1.0 we are no longer in the log period utility special case and the formula for the capital steady-state level is no longer valid."
   ]
  }
 ],
 "metadata": {
  "kernelspec": {
   "display_name": "base",
   "language": "python",
   "name": "python3"
  },
  "language_info": {
   "codemirror_mode": {
    "name": "ipython",
    "version": 3
   },
   "file_extension": ".py",
   "mimetype": "text/x-python",
   "name": "python",
   "nbconvert_exporter": "python",
   "pygments_lexer": "ipython3",
   "version": "3.9.13"
  },
  "toc-autonumbering": true,
  "vscode": {
   "interpreter": {
    "hash": "3636dfe3e3efced5924147eaeab8fa7e5204e27b435464fa03fa25953d53415b"
   }
  }
 },
 "nbformat": 4,
 "nbformat_minor": 4
}
