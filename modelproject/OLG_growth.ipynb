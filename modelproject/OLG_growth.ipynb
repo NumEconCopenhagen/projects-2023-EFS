{
 "cells": [
  {
   "attachments": {},
   "cell_type": "markdown",
   "metadata": {},
   "source": [
    "# Overlapping Generation Model, with population growth"
   ]
  },
  {
   "attachments": {},
   "cell_type": "markdown",
   "metadata": {},
   "source": [
    "**Table of contents**<a id='toc0_'></a>    \n",
    "- 1. [Model description](#toc1_)    \n",
    "  - 1.1. [Method of solution](#toc1_1_)    \n",
    "- 2. [Analytical solution](#toc2_)    \n",
    "- 3. [Numerical solution](#toc3_)    \n",
    "\n",
    "<!-- vscode-jupyter-toc-config\n",
    "\tnumbering=true\n",
    "\tanchor=true\n",
    "\tflat=false\n",
    "\tminLevel=2\n",
    "\tmaxLevel=6\n",
    "\t/vscode-jupyter-toc-config -->\n",
    "<!-- THIS CELL WILL BE REPLACED ON TOC UPDATE. DO NOT WRITE YOUR TEXT IN THIS CELL -->"
   ]
  },
  {
   "attachments": {},
   "cell_type": "markdown",
   "metadata": {},
   "source": [
    "In this project we will simulate the overlapping generations (OLG) model with **population growth**. "
   ]
  },
  {
   "cell_type": "code",
   "execution_count": 1,
   "metadata": {},
   "outputs": [],
   "source": [
    "# Import required packages and tools\n",
    "\n",
    "# autoreload\n",
    "%load_ext autoreload\n",
    "%autoreload 2\n",
    "\n",
    "# First we import needed extentions, packages \n",
    "import numpy as np\n",
    "from scipy import optimize\n",
    "\n",
    "# displying\n",
    "from IPython.display import display\n",
    "\n",
    "# plotting\n",
    "import matplotlib.pyplot as plt\n",
    "plt.rcParams.update({\"axes.grid\":True,\"grid.color\":\"black\",\"grid.alpha\":\"0.25\",\"grid.linestyle\":\"--\"})\n",
    "plt.rcParams.update({'font.size': 14})\n",
    "\n",
    "# model\n",
    "from OLG_growth_model import OLGModelClass\n",
    "\n",
    "# importing symbolic math tools\n",
    "import sympy as sm\n",
    "\n",
    "# ad-hoc plotting function\n",
    "from OLG_growth_model import capital_accumulation_plot"
   ]
  },
  {
   "cell_type": "markdown",
   "metadata": {},
   "source": [
    "## 1. <a id='toc1_'></a>[Model description](#toc0_)"
   ]
  },
  {
   "attachments": {},
   "cell_type": "markdown",
   "metadata": {},
   "source": [
    "Capital letters are aggregate variables.\n",
    "\n",
    "**Time:** Discrete and indexed by $t\\in\\{0,1,\\dots\\}$."
   ]
  },
  {
   "attachments": {},
   "cell_type": "markdown",
   "metadata": {},
   "source": [
    "**Demographics:** <font color=blue>Population growth rate</font> is n.\n",
    "A life consists of two periods, *young* and *old*. \n",
    "Young population at time $t$ is $L_t$, while old population is $L_{t-1}$. It holds that:\n",
    "\n",
    "$$\n",
    "\\begin{aligned}\n",
    "L_t & = L_{t-1}(1+n) \\\\ \n",
    "\\text{with}\\ n &>-1\n",
    "\\end{aligned}\n",
    "$$"
   ]
  },
  {
   "attachments": {},
   "cell_type": "markdown",
   "metadata": {},
   "source": [
    "**Households:** \n",
    "No unemployment is assumed in the young population so labour market clears, with $L_t$ equal to $N_t$, which represents the employed workers in the economy. Each individual supplies one unit of labour. \n",
    "At the aggregate level, young individuals earn a <font color=blue>after tax wage</font> $(1-\\tau_w)w_{t}N_{t}$.<br>\n",
    "Consumption as young and old are denoted by $C_{1t}$ and $C_{2t+1}$. \n",
    "The <font color=blue>after-tax return on saving</font> is $(1-\\tau_{r})r_{t+1}$.<br>\n",
    "The household decision problem can be represented as following:\n",
    "    \n",
    "$$\n",
    "\\begin{aligned}\n",
    "U & =\\max_{s_{t}\\in[0,1]}\\frac{C_{1t}^{1-\\sigma}}{1-\\sigma}+\\beta\\frac{C_{2t+1}^{1-\\sigma}}{1-\\sigma},\\,\\,\\,\\beta > -1, \\sigma > 0\\\\\n",
    " & \\text{s.t.}\\\\\n",
    " & S_{t}=s_{t}(1-\\tau_{w})w_{t}N_{t}\\\\\n",
    " & C_{1t}=(1-s_{t})(1-\\tau_{w})w_{t}N_{t}\\\\\n",
    " & C_{2t+1}=(1+(1-\\tau_{r})r_{t+1})S_{t}\n",
    "\\end{aligned}\n",
    "$$\n",
    "\n",
    "In case of $\\sigma=1$ we have logarithmic utility and the intertemporal utility function becomes:\n",
    "\n",
    "$$\n",
    "\\begin{aligned}\n",
    "U & = log{C_{1t}}+\\beta(log{C_{2t+1}}),\\,\\,\\,\\beta > -1\\\\\n",
    "\\end{aligned}\n",
    "$$\n",
    "\n",
    "Where $r_{t}$ is the <font color=blue>interest rate on savings</font>, $S_{t}$ are the <font color=blue>total savings</font> and $s_{t}$ is the <font color=blue>saving rate</font>.\n",
    "The problem is formulated in terms of the saving rate $s_t\\in[0,1]$."
   ]
  },
  {
   "attachments": {},
   "cell_type": "markdown",
   "metadata": {},
   "source": [
    "**Firms:** Firms rent capital $K_{t-1}$ at the <font color=blue>rental rate</font> $r_{t}^{K}$,\n",
    "and hires labor $N_{t}$ at the <font color=blue>wage rate</font> $w_{t}$. Firms have access\n",
    "to the CES production function:\n",
    "$$\n",
    "\\begin{aligned}\n",
    "Y_{t}=F(K_{t-1},L_{t})=[\\gamma K_{t-1}^{-\\theta}+(1-\\gamma)L_{t}^{-\\theta}]^{\\frac{1}{-\\theta}},\\,\\,\\,\\theta>-1,\\gamma\\in(0,1)\n",
    "\\end{aligned}\n",
    "$$\n",
    "\n",
    "We'll focus on the special case of Cobb-Douglas production function:\n",
    "\n",
    "$$\n",
    "\\begin{aligned}\n",
    "Y_{t}=F(K_{t-1},L_{t})=A_tK_{t-1}^{\\alpha}L_{t}^{1-\\alpha}\n",
    "\\end{aligned}\n",
    "$$\n",
    "\n",
    "    \n",
    "<font color=blue>Profits</font> are\n",
    "    \n",
    "$$\n",
    "\\begin{aligned}\n",
    "\\Pi_{t}=Y_{t}-w_{t}L_{t}-r_{t}^{K}K_{t-1}\n",
    "\\end{aligned}\n",
    "$$"
   ]
  },
  {
   "attachments": {},
   "cell_type": "markdown",
   "metadata": {},
   "source": [
    "**Government:** Choose <font color=blue>public consumption (expenditure)</font>, $G_{t}$, and <font color=blue>(income) tax rates</font> $\\tau_w \\in [0,1]$ and $\\tau_r \\in [0,1]$. <font color=blue>Total tax revenue</font> is\n",
    "    \n",
    "$$\n",
    "\\begin{aligned}\n",
    "T_{t} &=\\tau_r r_{t} (K_{t-1}+B_{t-1})+\\tau_w w_{t}N_{t}   \n",
    "\\end{aligned}\n",
    "$$\n",
    "\n",
    "Where $B_{t-1}$ is the <font color=blue>value of bond outstanding</font>.\n",
    "Government debt accumulates according to\n",
    "    \n",
    "$$\n",
    "\\begin{aligned}\n",
    "B_{t} &=(1+r^b_{t})B_{t-1}-T_{t}+G_{t} \n",
    "\\end{aligned}\n",
    "$$\n",
    "\n",
    "Where $r^b_{t}$ \n",
    "A *balanced budget* implies $G_{t}=T_{t}-r_{t}B_{t-1}$."
   ]
  },
  {
   "cell_type": "markdown",
   "metadata": {},
   "source": [
    "**Capital:** Depreciates with a rate of $\\delta \\in [0,1]$."
   ]
  },
  {
   "attachments": {},
   "cell_type": "markdown",
   "metadata": {},
   "source": [
    "**At equilibrium:**\n",
    "\n",
    "1. Households maximize utility\n",
    "2. Firms maximize profits\n",
    "3. No-arbitrage between bonds and capital\n",
    "\n",
    "    $$\n",
    "    r_{t}=r_{t}^{K}-\\delta=r_{t}^{b}\n",
    "    $$\n",
    "\n",
    "4. Labor market clears: $L_{t}=N_{t}$\n",
    "5. Goods market clears: $Y_{t}=C_{1t}+C_{2t}+G_{t}+I_{t}$\n",
    "6. Asset market clears: $S_{t}=K_{t}+B_{t}$\n",
    "7. Capital follows its law of motion: $K_{t}=(1-\\delta)K_{t-1}+I_{t}$\n",
    "\n",
    "Where $I_{t}$ is investment."
   ]
  },
  {
   "attachments": {},
   "cell_type": "markdown",
   "metadata": {},
   "source": [
    "### 1.1. <a id='toc1_1_'></a>[Method of solution](#toc0_)"
   ]
  },
  {
   "attachments": {},
   "cell_type": "markdown",
   "metadata": {},
   "source": [
    "**Implication of profit maximization:** From FOCs\n",
    "\n",
    "$$\n",
    "\\begin{aligned}\n",
    "r_{t}^{k} & =F_{K}(K_{t-1},L_{t})=A_t\\alpha K_{t-1}^{-\\theta-1}Y_{t}^{1+\\theta}\\\\\n",
    "w_{t} & =F_{E}(K_{t-1},L_{t})=A_t(1-\\alpha)L_{t}^{-\\theta-1}Y_{t}^{1+\\theta}\n",
    "\\end{aligned}\n",
    "$$\n",
    "\n",
    "**Implication of utility maximization:** From FOC\n",
    "\n",
    "$$\n",
    "\\begin{aligned}\n",
    "C_{1t}^{-\\sigma}=\\beta (1+(1-\\tau_r)r_{t+1})C_{2t+1}^{-\\sigma}\n",
    "\\end{aligned}\n",
    "$$"
   ]
  },
  {
   "attachments": {},
   "cell_type": "markdown",
   "metadata": {},
   "source": [
    "**Simulation algorithm:** At the beginning of period $t$, the\n",
    "economy can be summarized in the state variables $K_{t-1}$ and $B_{t-1}$.<br>\n",
    "*Before* $s_t$ is known, we can calculate:\n",
    "\n",
    "$$\n",
    "\\begin{aligned}\n",
    "Y_{t} & =F(K_{t-1},L_t)\\\\\n",
    "r_{t}^{k} & =F_{K}(K_{t-1},1)\\\\\n",
    "w_{t} & =F_{L}(K_{t-1},1)\\\\\n",
    "r_{t} & =r^k_{t}-\\delta\\\\\n",
    "r_{t}^{b} & =r_{t}\\\\\n",
    "\\tilde{r}_{t} & =(1-\\tau_{r})r_{t}\\\\\n",
    "C_{2t} & =(1+\\tilde{r}_{t})(K_{t-1}+B_{t-1})\\\\\n",
    "T_{t} & =\\tau_{r}r_{t}(K_{t-1}+B_{t-1})+\\tau_{w}w_{t}\\\\\n",
    "B_{t} & =(1+r^b_{t})B_{t-1}+T_{t}-G_{t}\\\\\n",
    "L_{t} & = L_{t-1}(1+n)\\\\\n",
    "\\end{aligned}\n",
    "$$\n",
    "\n",
    "*After* $s_t$ is known we can calculate:\n",
    "\n",
    "$$\n",
    "\\begin{aligned}\n",
    "C_{1t} & = (1-s_{t})(1-\\tau_{w})w_{t}\\\\\n",
    "I_{t} & =Y_{t}-C_{1t}-C_{2t}-G_{t}\\\\\n",
    "K_{t} & =(1-\\delta)K_{t-1} + I_t\n",
    "\\end{aligned}\n",
    "$$"
   ]
  },
  {
   "cell_type": "markdown",
   "metadata": {},
   "source": [
    "**Solution algorithm:** Simulate forward choosing $s_{t}$ so\n",
    "that we always have\n",
    "\n",
    "$$\n",
    "\\begin{aligned}\n",
    "C_{1t}^{-\\sigma}=\\beta(1+\\tilde{r}_{t+1})C_{2t+1}^{-\\sigma}\n",
    "\\end{aligned}\n",
    "$$"
   ]
  },
  {
   "attachments": {},
   "cell_type": "markdown",
   "metadata": {},
   "source": [
    "## 2. <a id='toc1_2_'></a>[Analytical solution](#toc0_)"
   ]
  },
  {
   "attachments": {},
   "cell_type": "markdown",
   "metadata": {},
   "source": [
    "Given the above model description we attempted to solve part of it analytically.\n",
    "We try to find the optimal saving rate, given logarythmic period utility function. \n",
    "For this purpose we import a function made ad-hoc to solve the household problem analitycally while showing each step of the derivation.\n",
    "The function provides also characterization for the solving equation. The optimal value of $s_t$ is determined, given the value of beta:"
   ]
  },
  {
   "cell_type": "code",
   "execution_count": 2,
   "metadata": {},
   "outputs": [
    {
     "name": "stdout",
     "output_type": "stream",
     "text": [
      "Objective function:\n"
     ]
    },
    {
     "data": {
      "text/latex": [
       "$\\displaystyle \\beta \\log{\\left(C_{2t+1} \\right)} + \\log{\\left(c_{1t} \\right)}$"
      ],
      "text/plain": [
       "beta*log(C_{2t+1}) + log(c_{1t})"
      ]
     },
     "metadata": {},
     "output_type": "display_data"
    },
    {
     "name": "stdout",
     "output_type": "stream",
     "text": [
      "\n",
      "\n",
      "Budget constraints:\n"
     ]
    },
    {
     "data": {
      "text/latex": [
       "$\\displaystyle N_{t} s_{t} w_{t} \\left(1 - \\tau_{w}\\right) = S_{t}$"
      ],
      "text/plain": [
       "Eq(N_{t}*s_t*w_t*(1 - tau_w), S_t)"
      ]
     },
     "metadata": {},
     "output_type": "display_data"
    },
    {
     "data": {
      "text/latex": [
       "$\\displaystyle N_{t} w_{t} \\left(1 - s_{t}\\right) \\left(1 - \\tau_{w}\\right) = c_{1t}$"
      ],
      "text/plain": [
       "Eq(N_{t}*w_t*(1 - s_t)*(1 - tau_w), c_{1t})"
      ]
     },
     "metadata": {},
     "output_type": "display_data"
    },
    {
     "data": {
      "text/latex": [
       "$\\displaystyle S_{t} \\left(r_{t+1} \\cdot \\left(1 - \\tau_{r}\\right) + 1\\right) = C_{2t+1}$"
      ],
      "text/plain": [
       "Eq(S_t*(r_{t+1}*(1 - tau_r) + 1), C_{2t+1})"
      ]
     },
     "metadata": {},
     "output_type": "display_data"
    },
    {
     "name": "stdout",
     "output_type": "stream",
     "text": [
      "\n",
      "\n",
      "Substitution of St inside function for consumption of old agents:\n"
     ]
    },
    {
     "data": {
      "text/latex": [
       "$\\displaystyle N_{t} s_{t} w_{t} \\left(1 - \\tau_{w}\\right) \\left(r_{t+1} \\cdot \\left(1 - \\tau_{r}\\right) + 1\\right) = C_{2t+1}$"
      ],
      "text/plain": [
       "Eq(N_{t}*s_t*w_t*(1 - tau_w)*(r_{t+1}*(1 - tau_r) + 1), C_{2t+1})"
      ]
     },
     "metadata": {},
     "output_type": "display_data"
    },
    {
     "name": "stdout",
     "output_type": "stream",
     "text": [
      "\n",
      "\n",
      "Substitution of old and young consumption inside objective function:\n"
     ]
    },
    {
     "data": {
      "text/latex": [
       "$\\displaystyle \\beta \\log{\\left(N_{t} s_{t} w_{t} \\left(r_{t+1} \\tau_{r} \\tau_{w} - r_{t+1} \\tau_{r} - r_{t+1} \\tau_{w} + r_{t+1} - \\tau_{w} + 1\\right) \\right)} + \\log{\\left(N_{t} w_{t} \\left(s_{t} \\tau_{w} - s_{t} - \\tau_{w} + 1\\right) \\right)}$"
      ],
      "text/plain": [
       "beta*log(N_{t}*s_t*w_t*(r_{t+1}*tau_r*tau_w - r_{t+1}*tau_r - r_{t+1}*tau_w + r_{t+1} - tau_w + 1)) + log(N_{t}*w_t*(s_t*tau_w - s_t - tau_w + 1))"
      ]
     },
     "metadata": {},
     "output_type": "display_data"
    },
    {
     "name": "stdout",
     "output_type": "stream",
     "text": [
      "\n",
      "\n",
      "FOC of objective modified function wrt st:\n"
     ]
    },
    {
     "data": {
      "text/latex": [
       "$\\displaystyle \\frac{\\beta}{s_{t}} + \\frac{\\tau_{w} - 1}{s_{t} \\tau_{w} - s_{t} - \\tau_{w} + 1}$"
      ],
      "text/plain": [
       "beta/s_t + (tau_w - 1)/(s_t*tau_w - s_t - tau_w + 1)"
      ]
     },
     "metadata": {},
     "output_type": "display_data"
    },
    {
     "name": "stdout",
     "output_type": "stream",
     "text": [
      "\n",
      "\n",
      "Value of st that solves FOC=0:\n"
     ]
    },
    {
     "data": {
      "text/latex": [
       "$\\displaystyle \\frac{\\beta}{\\beta + 1}$"
      ],
      "text/plain": [
       "beta/(beta + 1)"
      ]
     },
     "metadata": {},
     "output_type": "display_data"
    },
    {
     "name": "stdout",
     "output_type": "stream",
     "text": [
      "\n",
      "\n",
      "Optimal value of st for beta = 0.8:\n"
     ]
    },
    {
     "data": {
      "text/plain": [
       "0.4444444444444445"
      ]
     },
     "metadata": {},
     "output_type": "display_data"
    }
   ],
   "source": [
    "# Calling the ad-hoc analytical solver\n",
    "# import sympy method for solving recognizing log\n",
    "from sympy import *\n",
    "from Analytical_solver import log_analytic\n",
    "\n",
    "# call ad-hoc analytical solver with beta parameter value = 0.8\n",
    "log_analytic(beta_val=0.8)"
   ]
  },
  {
   "attachments": {},
   "cell_type": "markdown",
   "metadata": {},
   "source": [
    "## 3. <a id='toc1_4_'></a>[Numerical solution](#toc0_)"
   ]
  },
  {
   "attachments": {},
   "cell_type": "markdown",
   "metadata": {},
   "source": [
    "We simulate the model for 50 periods, while using some simplifying assumption:\n",
    "1. Production is Cobb-Douglas ($\\theta = 0$)\n",
    "2. Utility is logarithmic ($\\sigma = 1$)\n",
    "3. The government is not doing anything ($\\tau_w=\\tau_r=0$, $T_t = G_t = 0$ and $B_t = 0$) \n",
    "4. Population growth rate = 0.1\n",
    "\n",
    "**The analytical steady state when population technology are growing can be defined as:**\n",
    "\n",
    "$$ \\lim_{t\\rightarrow\\infty} K_t = \\left(\\frac{1-\\alpha}{(1+n)(1+1/\\beta)}\\right)^{\\frac{1}{1-\\alpha}} $$"
   ]
  },
  {
   "cell_type": "code",
   "execution_count": 3,
   "metadata": {},
   "outputs": [
    {
     "name": "stdout",
     "output_type": "stream",
     "text": [
      "initializing the model:\n",
      "calling .setup()\n",
      "calling .allocate()\n",
      "simulation done in 0.09 secs\n"
     ]
    }
   ],
   "source": [
    "# create an instance of the model\n",
    "model = OLGModelClass()\n",
    "par = model.par \n",
    "sim = model.sim \n",
    "\n",
    "# define production parameters\n",
    "par.production_function = 'cobb-douglas'\n",
    "par.theta = 0.0\n",
    "par.alpha = 0.5\n",
    "\n",
    "# define growth parameters\n",
    "par.n = 0.1\n",
    "\n",
    "# define households utility parameter\n",
    "par.sigma = 1.0\n",
    "par.beta = 1.0/(1.0+0.4)\n",
    "\n",
    "# define government parameters\n",
    "par.tau_w = 0.0\n",
    "par.tau_r = 0.0\n",
    "sim.balanced_budget[:] = True # G changes to achieve this\n",
    "\n",
    "# define initial capital as respect to steady state\n",
    "par.K_lag_ini = 0.5*par.k_ss\n",
    "par.L_lag_ini = 1.0\n",
    "\n",
    "# Simulate the model\n",
    "model.simulate()"
   ]
  },
  {
   "attachments": {},
   "cell_type": "markdown",
   "metadata": {},
   "source": [
    "We can show that the euler equation is being respected at each period:"
   ]
  },
  {
   "cell_type": "code",
   "execution_count": 4,
   "metadata": {},
   "outputs": [
    {
     "name": "stdout",
     "output_type": "stream",
     "text": [
      "t = 40: euler-error = -0.00000000\n",
      "t = 41: euler-error = -0.00000000\n",
      "t = 42: euler-error = -0.00000000\n",
      "t = 43: euler-error = -0.00000000\n",
      "t = 44: euler-error = -0.00000000\n"
     ]
    }
   ],
   "source": [
    "for t in range(40,45):\n",
    "    LHS_Euler = sim.C1[t]**(-par.sigma)\n",
    "    RHS_Euler = (1+sim.rt[t+1])*par.beta * sim.C2[t+1]**(-par.sigma)\n",
    "    print(f't = {t:2d}: euler-error = {LHS_Euler-RHS_Euler:.8f}')"
   ]
  },
  {
   "attachments": {},
   "cell_type": "markdown",
   "metadata": {},
   "source": [
    "We can then plot the trend of capital accumulation and compare it to the analytical steady state defined above:"
   ]
  },
  {
   "cell_type": "code",
   "execution_count": 5,
   "metadata": {},
   "outputs": [
    {
     "data": {
      "image/png": "[encoded data removed]",
      "text/plain": [
       "<Figure size 600x400 with 1 Axes>"
      ]
     },
     "metadata": {},
     "output_type": "display_data"
    }
   ],
   "source": [
    "capital_accumulation_plot(par,sim)"
   ]
  },
  {
   "attachments": {},
   "cell_type": "markdown",
   "metadata": {},
   "source": [
    "We see how $K_{t-1}$ evolves over 50 periods. \n",
    "It it seen that $K_{t-1}$ diverge away from steady state and grows exponentially. This is in contrast with the solution suggested analitically above. \n",
    "The steady state level of capital is also really close to zero and really near to the starting value of capital.\n",
    "\n",
    "Trying to figure out a possible reason for the following behaviour, it could be that the introduction of population and technology growth have a positive effect on the accumulation of capital which is not finding any limiting constraint, that could stabilize capital growth as time passes. \n",
    "This implies that a particular choice of parameters could put capital accumulation off a balance growth path.\n",
    "\n",
    "Since this behaviour is sharply divergent from our expectation, we see the possibility of an incorrect mathematical formulation.\n",
    "\n",
    "Anyhow, we can try and chose another starting level for the capital and see if this would influence our final result: we'll see that the divergent behaviour is confirmed, while the scale of the graph does not permit a better observation of what happens at the starting point."
   ]
  },
  {
   "cell_type": "code",
   "execution_count": 6,
   "metadata": {},
   "outputs": [
    {
     "name": "stdout",
     "output_type": "stream",
     "text": [
      "initializing the model:\n",
      "calling .setup()\n",
      "calling .allocate()\n",
      "simulation done in 0.09 secs\n"
     ]
    }
   ],
   "source": [
    "model2 = OLGModelClass()\n",
    "par = model2.par \n",
    "sim = model2.sim\n",
    "\n",
    "# Redefining initial capital as respect to steady state\n",
    "par.K_lag_ini = 1.5*par.k_ss\n",
    "\n",
    "# simulate the model\n",
    "model2.simulate()"
   ]
  },
  {
   "cell_type": "code",
   "execution_count": 7,
   "metadata": {},
   "outputs": [
    {
     "data": {
      "image/png": "[encoded data removed]",
      "text/plain": [
       "<Figure size 600x400 with 1 Axes>"
      ]
     },
     "metadata": {},
     "output_type": "display_data"
    }
   ],
   "source": [
    "capital_accumulation_plot(par,sim)"
   ]
  }
 ],
 "metadata": {
  "kernelspec": {
   "display_name": "base",
   "language": "python",
   "name": "python3"
  },
  "language_info": {
   "codemirror_mode": {
    "name": "ipython",
    "version": 3
   },
   "file_extension": ".py",
   "mimetype": "text/x-python",
   "name": "python",
   "nbconvert_exporter": "python",
   "pygments_lexer": "ipython3",
   "version": "3.9.13"
  },
  "toc-autonumbering": true,
  "vscode": {
   "interpreter": {
    "hash": "3636dfe3e3efced5924147eaeab8fa7e5204e27b435464fa03fa25953d53415b"
   }
  }
 },
 "nbformat": 4,
 "nbformat_minor": 4
}
