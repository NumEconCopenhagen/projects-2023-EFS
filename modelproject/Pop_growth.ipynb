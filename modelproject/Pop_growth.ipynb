{
 "cells": [
  {
   "attachments": {},
   "cell_type": "markdown",
   "metadata": {},
   "source": [
    "# OLG model"
   ]
  },
  {
   "cell_type": "markdown",
   "metadata": {},
   "source": [
    "**Table of contents**<a id='toc0_'></a>    \n",
    "- 1. [Model description](#toc1_)    \n",
    "  - 1.1. [Solution and simulation](#toc1_1_)    \n",
    "  - 1.2. [Test case](#toc1_2_)    \n",
    "  - 1.3. [Simulate first period manually](#toc1_3_)    \n",
    "  - 1.4. [Full simulation](#toc1_4_)    \n",
    "- 2. [Active government](#toc2_)    \n",
    "- 3. [Potential analysis and extensions](#toc3_)    \n",
    "\n",
    "<!-- vscode-jupyter-toc-config\n",
    "\tnumbering=true\n",
    "\tanchor=true\n",
    "\tflat=false\n",
    "\tminLevel=2\n",
    "\tmaxLevel=6\n",
    "\t/vscode-jupyter-toc-config -->\n",
    "<!-- THIS CELL WILL BE REPLACED ON TOC UPDATE. DO NOT WRITE YOUR TEXT IN THIS CELL -->"
   ]
  },
  {
   "attachments": {},
   "cell_type": "markdown",
   "metadata": {},
   "source": [
    "In this project we will simulate the **overlapping generations (OLG) model** with population and technology growth as our extentions. "
   ]
  },
  {
   "cell_type": "code",
   "execution_count": 85,
   "metadata": {},
   "outputs": [
    {
     "name": "stdout",
     "output_type": "stream",
     "text": [
      "The autoreload extension is already loaded. To reload it, use:\n",
      "  %reload_ext autoreload\n"
     ]
    }
   ],
   "source": [
    "#First we import needed extentions, packages \n",
    "%load_ext autoreload\n",
    "%autoreload 2\n",
    "\n",
    "import numpy as np\n",
    "from scipy import optimize\n",
    "\n",
    "# plotting\n",
    "import matplotlib.pyplot as plt\n",
    "plt.rcParams.update({\"axes.grid\":True,\"grid.color\":\"black\",\"grid.alpha\":\"0.25\",\"grid.linestyle\":\"--\"})\n",
    "plt.rcParams.update({'font.size': 14})\n",
    "\n",
    "# models\n",
    "from Overall import OLGModelClass"
   ]
  },
  {
   "cell_type": "markdown",
   "metadata": {},
   "source": [
    "## 1. <a id='toc1_'></a>[Model description](#toc0_)"
   ]
  },
  {
   "attachments": {},
   "cell_type": "markdown",
   "metadata": {},
   "source": [
    "Capital letters are aggregate variables while lowercase letters are individual level.\n",
    "\n",
    "**Time:** Discrete and indexed by $t\\in\\{0,1,\\dots\\}$."
   ]
  },
  {
   "attachments": {},
   "cell_type": "markdown",
   "metadata": {},
   "source": [
    "**Demographics:** <font color=blue>Population growth rate</font> is n.\n",
    "A life consists of two periods, *young* and *old*. \n",
    "Young population at time $t$ is $L_t$, while old population is $L_{t-1}$. It holds that:\n",
    "\n",
    "$$\n",
    "\\begin{aligned}\n",
    "L_t & = L_{t-1}(1+n) \\\\ \n",
    "\\text{with}\\ n &>-1\n",
    "\\end{aligned}\n",
    "$$"
   ]
  },
  {
   "attachments": {},
   "cell_type": "markdown",
   "metadata": {},
   "source": [
    "**Households:** \n",
    "No unemployment is assumed in the young population so labour market clears, with $L_t$ equal to $N_t$, which represents the employed workers in the economy. Each individual supplies one unit of labour. \n",
    "At the aggregate level, young individuals earn a <font color=blue>after tax wage</font> $(1-\\tau_w)w_{t}N_{t}$.<br>\n",
    "Consumption as young and old are denoted by $C_{1t}$ and $C_{2t+1}$. \n",
    "The <font color=blue>after-tax return on saving</font> is $(1-\\tau_{r})r_{t+1}$.<br>\n",
    "Utility is:\n",
    "    \n",
    "$$\n",
    "\\begin{aligned}\n",
    "U & =\\max_{s_{t}\\in[0,1]}\\frac{C_{1t}^{1-\\sigma}}{1-\\sigma}+\\beta\\frac{C_{2t+1}^{1-\\sigma}}{1-\\sigma},\\,\\,\\,\\beta > -1, \\sigma > 0\\\\\n",
    " & \\text{s.t.}\\\\\n",
    " & S_{t}=s_{t}(1-\\tau_{w})w_{t}N_{t}\\\\\n",
    " & C_{1t}=(1-s_{t})(1-\\tau_{w})w_{t}N_{t}\\\\\n",
    " & C_{2t+1}=(1+(1-\\tau_{r})r_{t+1})S_{t}\n",
    "\\end{aligned}\n",
    "$$\n",
    "\n",
    "In case of $sigma=1$ we have logarithmic utility and the household problem becomes:\n",
    "\n",
    "$$\n",
    "\\begin{aligned}\n",
    "U & =\\max_{s_{t}\\in[0,1]}log{C_{1t}}+\\beta(log{C_{2t+1}}),\\,\\,\\,\\beta > -1\\\\\n",
    " & \\text{s.t.}\\\\\n",
    " & S_{t}=s_{t}(1-\\tau_{w})w_{t}N_{t}\\\\\n",
    " & C_{1t}=(1-s_{t})(1-\\tau_{w})w_{t}N_{t}\\\\\n",
    " & C_{2t+1}=(1+(1-\\tau_{r})r_{t+1})S_{t}\n",
    "\\end{aligned}\n",
    "$$\n",
    "\n",
    "Where $r_{t}$ is the <font color=blue>interest rate on savings</font>, $S_{t}$ are the <font color=blue>total savings</font> and $s_{t}$ is the <font color=blue>saving rate</font>.\n",
    "The problem is formulated in terms of the saving rate $s_t\\in[0,1]$."
   ]
  },
  {
   "attachments": {},
   "cell_type": "markdown",
   "metadata": {},
   "source": [
    "**Firms:** Firms rent capital $K_{t-1}$ at the <font color=blue>rental rate</font> $r_{t}^{K}$,\n",
    "and hires labor $N_{t}$ at the <font color=blue>wage rate</font> $w_{t}$. Firms have access\n",
    "to the production function, where $A_t$ is the total factor productivity at time t.\n",
    "\n",
    "CES production function:\n",
    "$$\n",
    "\\begin{aligned}\n",
    "Y_{t}=F(K_{t-1},L_{t})=A_t[\\gamma K_{t-1}^{-\\theta}+(1-\\gamma)L_{t}^{-\\theta}]^{\\frac{1}{-\\theta}},\\,\\,\\,\\theta>-1,\\gamma\\in(0,1)\n",
    "\\end{aligned}\n",
    "$$\n",
    "\n",
    "Cobb-Douglas production function:\n",
    "\n",
    "$$\n",
    "\\begin{aligned}\n",
    "Y_{t}=F(K_{t-1},L_{t})=A_tK_{t-1}^{(1-\\alpha)}L_{t}^{\\alpha}\n",
    "\\end{aligned}\n",
    "$$\n",
    "\n",
    "    \n",
    "<font color=blue>Profits</font> are\n",
    "    \n",
    "$$\n",
    "\\begin{aligned}\n",
    "\\Pi_{t}=Y_{t}-w_{t}L_{t}-r_{t}^{K}K_{t-1}\n",
    "\\end{aligned}\n",
    "$$"
   ]
  },
  {
   "attachments": {},
   "cell_type": "markdown",
   "metadata": {},
   "source": [
    "**Government:** Choose <font color=blue>public consumption (expenditure)</font>, $G_{t}$, and <font color=blue>(income) tax rates</font> $\\tau_w \\in [0,1]$ and $\\tau_r \\in [0,1]$. <font color=blue>Total tax revenue</font> is\n",
    "    \n",
    "$$\n",
    "\\begin{aligned}\n",
    "T_{t} &=\\tau_r r_{t} (K_{t-1}+B_{t-1})+\\tau_w w_{t}N_{t}   \n",
    "\\end{aligned}\n",
    "$$\n",
    "\n",
    "Where $B_{t-1}$ is the <font color=blue>value of bond outstanding</font>.\n",
    "Government debt accumulates according to\n",
    "    \n",
    "$$\n",
    "\\begin{aligned}\n",
    "B_{t} &=(1+r^b_{t})B_{t-1}-T_{t}+G_{t} \n",
    "\\end{aligned}\n",
    "$$\n",
    "\n",
    "Where $r^b_{t}$ \n",
    "A *balanced budget* implies $G_{t}=T_{t}-r_{t}B_{t-1}$."
   ]
  },
  {
   "cell_type": "markdown",
   "metadata": {},
   "source": [
    "**Capital:** Depreciates with a rate of $\\delta \\in [0,1]$."
   ]
  },
  {
   "attachments": {},
   "cell_type": "markdown",
   "metadata": {},
   "source": [
    "**Equilibrium:**\n",
    "\n",
    "1. Households maximize utility\n",
    "2. Firms maximize profits\n",
    "3. No-arbitrage between bonds and capital\n",
    "\n",
    "    $$\n",
    "    r_{t}=r_{t}^{K}-\\delta=r_{t}^{b}\n",
    "    $$\n",
    "\n",
    "4. Labor market clears: $L_{t}=N_{t}$\n",
    "5. Goods market clears: $Y_{t}=C_{1t}+C_{2t}+G_{t}+I_{t}$\n",
    "6. Asset market clears: $S_{t}=K_{t}+B_{t}$\n",
    "7. Capital follows its law of motion: $K_{t}=(1-\\delta)K_{t-1}+I_{t}$\n",
    "\n",
    "Where $I_{t}$ is investment."
   ]
  },
  {
   "cell_type": "markdown",
   "metadata": {},
   "source": [
    "### 1.1. <a id='toc1_1_'></a>[Solution and simulation](#toc0_)"
   ]
  },
  {
   "attachments": {},
   "cell_type": "markdown",
   "metadata": {},
   "source": [
    "**Implication of profit maximization:** From FOCs\n",
    "\n",
    "$$\n",
    "\\begin{aligned}\n",
    "r_{t}^{k} & =F_{K}(K_{t-1},L_{t})=A_t\\alpha K_{t-1}^{-\\theta-1}Y_{t}^{1+\\theta}\\\\\n",
    "w_{t} & =F_{E}(K_{t-1},L_{t})=A_t(1-\\alpha)L_{t}^{-\\theta-1}Y_{t}^{1+\\theta}\n",
    "\\end{aligned}\n",
    "$$\n",
    "\n",
    "**Implication of utility maximization:** From FOC\n",
    "\n",
    "$$\n",
    "\\begin{aligned}\n",
    "C_{1t}^{-\\sigma}=\\beta (1+(1-\\tau_r)r_{t+1})C_{2t+1}^{-\\sigma}\n",
    "\\end{aligned}\n",
    "$$"
   ]
  },
  {
   "attachments": {},
   "cell_type": "markdown",
   "metadata": {},
   "source": [
    "**Simulation algorithm:** At the beginning of period $t$, the\n",
    "economy can be summarized in the state variables $K_{t-1}$ and $B_{t-1}$.<br>\n",
    "*Before* $s_t$ is known, we can calculate:\n",
    "\n",
    "$$\n",
    "\\begin{aligned}\n",
    "Y_{t} & =F(K_{t-1},L_t)\\\\\n",
    "r_{t}^{k} & =F_{K}(K_{t-1},1)\\\\\n",
    "w_{t} & =F_{L}(K_{t-1},1)\\\\\n",
    "r_{t} & =r^k_{t}-\\delta\\\\\n",
    "r_{t}^{b} & =r_{t}\\\\\n",
    "\\tilde{r}_{t} & =(1-\\tau_{r})r_{t}\\\\\n",
    "C_{2t} & =(1+\\tilde{r}_{t})(K_{t-1}+B_{t-1})\\\\\n",
    "T_{t} & =\\tau_{r}r_{t}(K_{t-1}+B_{t-1})+\\tau_{w}w_{t}\\\\\n",
    "B_{t} & =(1+r^b_{t})B_{t-1}+T_{t}-G_{t}\\\\\n",
    "L_{t} & = L_{t-1}(1+n)\n",
    "\\end{aligned}\n",
    "$$\n",
    "\n",
    "*After* $s_t$ is known we can calculate:\n",
    "\n",
    "$$\n",
    "\\begin{aligned}\n",
    "C_{1t} & = (1-s_{t})(1-\\tau_{w})w_{t}\\\\\n",
    "I_{t} & =Y_{t}-C_{1t}-C_{2t}-G_{t}\\\\\n",
    "K_{t} & =(1-\\delta)K_{t-1} + I_t\n",
    "\\end{aligned}\n",
    "$$"
   ]
  },
  {
   "cell_type": "markdown",
   "metadata": {},
   "source": [
    "**Solution algorithm:** Simulate forward choosing $s_{t}$ so\n",
    "that we always have\n",
    "\n",
    "$$\n",
    "\\begin{aligned}\n",
    "C_{1t}^{-\\sigma}=\\beta(1+\\tilde{r}_{t+1})C_{2t+1}^{-\\sigma}\n",
    "\\end{aligned}\n",
    "$$"
   ]
  },
  {
   "cell_type": "markdown",
   "metadata": {},
   "source": [
    "**Implementation:**\n",
    "\n",
    "1. Use a bisection root-finder to determine $s_t$\n",
    "2. Low $s_t$: A lot of consumption today. Low marginal utility. LHS < RHS.\n",
    "3. High $s_t$: Little consumption today. High marginal utility. LHS > RHS.\n",
    "4. Problem: Too low $s_t$ might not be feasible if $B_t > 0$.\n",
    "\n",
    "**Note:** Never errors in the Euler-equation due to *perfect foresight*."
   ]
  },
  {
   "cell_type": "markdown",
   "metadata": {},
   "source": [
    "**Question:** Are all the requirements for the equilibrium satisfied?"
   ]
  },
  {
   "cell_type": "markdown",
   "metadata": {},
   "source": [
    "### 1.2. <a id='toc1_2_'></a>[Test case](#toc0_)"
   ]
  },
  {
   "attachments": {},
   "cell_type": "markdown",
   "metadata": {},
   "source": [
    "1. Production is Cobb-Douglas ($\\theta = 0$)\n",
    "2. Utility is logarithmic ($\\sigma = 1$)\n",
    "3. The government is not doing anything ($\\tau_w=\\tau_r=0$, $T_t = G_t = 0$ and $B_t = 0$) \n",
    "\n",
    "**Analytical steady state:** It can be proven\n",
    "\n",
    "$$ \\lim_{t\\rightarrow\\infty} K_t = \\left(\\frac{1-\\alpha}{(1+1/\\beta)(1+n)}\\right)^{\\frac{1}{1-\\alpha}} $$\n",
    "\n",
    "That would be the <font color=blue>steady state level of capital</font>"
   ]
  },
  {
   "cell_type": "markdown",
   "metadata": {},
   "source": [
    "**Setup:**"
   ]
  },
  {
   "cell_type": "code",
   "execution_count": 86,
   "metadata": {},
   "outputs": [
    {
     "name": "stdout",
     "output_type": "stream",
     "text": [
      "initializing the model:\n",
      "calling .setup()\n",
      "calling .allocate()\n"
     ]
    }
   ],
   "source": [
    "#We call our model and set it up so we are able to use it for simulation\n",
    "model = OLGModelClass()\n",
    "par = model.par # SimpeNamespace\n",
    "sim = model.sim # SimpeNamespace\n",
    "\n",
    "# a. production\n",
    "par.production_function = 'cobb-douglas'\n",
    "par.theta = 0.0\n",
    "\n",
    "# b. households\n",
    "par.sigma = 1.0\n",
    "\n",
    "# c. government\n",
    "par.tau_w = 0.0\n",
    "par.tau_r = 0.0\n",
    "sim.balanced_budget[:] = True # G changes to achieve this\n",
    "\n",
    "# d. initial values\n",
    "K_ss = ((1-par.alpha)/((1+par.n)*(1+1.0/par.beta)))**(1/(1-par.alpha)) #what steady state capital should be\n",
    "par.K_lag_ini = 0.1*K_ss #initial capital endowment"
   ]
  },
  {
   "cell_type": "markdown",
   "metadata": {},
   "source": [
    "### 1.3. <a id='toc1_3_'></a>[Simulate first period manually](#toc0_)"
   ]
  },
  {
   "attachments": {},
   "cell_type": "markdown",
   "metadata": {},
   "source": [
    "We strat by simulating the first periode. This is done by loading our code and making a guess on what saving, s, will be."
   ]
  },
  {
   "cell_type": "code",
   "execution_count": 87,
   "metadata": {},
   "outputs": [],
   "source": [
    "#importing\n",
    "from Overall import simulate_before_s, simulate_after_s, find_s_bracket, calc_euler_error"
   ]
  },
  {
   "cell_type": "markdown",
   "metadata": {},
   "source": [
    "**Make a guess:**"
   ]
  },
  {
   "cell_type": "code",
   "execution_count": 88,
   "metadata": {},
   "outputs": [],
   "source": [
    "s_guess = 0.41"
   ]
  },
  {
   "attachments": {},
   "cell_type": "markdown",
   "metadata": {},
   "source": [
    "**We evaluate first period results:**"
   ]
  },
  {
   "cell_type": "code",
   "execution_count": 89,
   "metadata": {},
   "outputs": [
    {
     "name": "stdout",
     "output_type": "stream",
     "text": [
      "sim.L_lag[0] =  1.0000\n",
      "sim.A_lag[0] =  1.0000\n",
      "sim.C2[0] =  0.0317\n",
      "sim.C1[0] =  0.0177\n",
      "sim.L_lag[1] =  1.1000\n",
      "sim.C2[1] =  0.0701\n",
      "sim.rt[1] =  4.7059\n",
      "sim.A_lag[1] =  1.1000\n",
      "euler-error = -1.57768391\n"
     ]
    }
   ],
   "source": [
    "# a. initialize\n",
    "sim.K_lag[0] = par.K_lag_ini\n",
    "sim.B_lag[0] = par.B_lag_ini\n",
    "sim.L_lag[0] = par.L_lag_ini\n",
    "sim.A_lag[0] = par.A_lag_ini\n",
    "print(f'{sim.L_lag[0] = : .4f}')\n",
    "print(f'{sim.A_lag[0] = : .4f}')\n",
    "\n",
    "simulate_before_s(par,sim,t=0)\n",
    "print(f'{sim.C2[0] = : .4f}')\n",
    "\n",
    "simulate_after_s(par,sim,s=s_guess,t=0)\n",
    "print(f'{sim.C1[0] = : .4f}')\n",
    "\n",
    "simulate_before_s(par,sim,t=1)\n",
    "print(f'{sim.L_lag[1] = : .4f}')\n",
    "print(f'{sim.C2[1] = : .4f}')\n",
    "print(f'{sim.rt[1] = : .4f}')\n",
    "print(f'{sim.A_lag[1] = : .4f}')\n",
    "\n",
    "LHS_Euler = sim.C1[0]**(-par.sigma)\n",
    "RHS_Euler = (1+sim.rt[1])*par.beta * sim.C2[1]**(-par.sigma)\n",
    "print(f'euler-error = {LHS_Euler-RHS_Euler:.8f}')"
   ]
  },
  {
   "attachments": {},
   "cell_type": "markdown",
   "metadata": {},
   "source": [
    "**We use the above in a function:**"
   ]
  },
  {
   "cell_type": "code",
   "execution_count": 90,
   "metadata": {},
   "outputs": [
    {
     "name": "stdout",
     "output_type": "stream",
     "text": [
      "euler-error = -1.57768391\n"
     ]
    }
   ],
   "source": [
    "euler_error = calc_euler_error(s_guess,par,sim,t=0)\n",
    "print(f'euler-error = {euler_error:.8f}')"
   ]
  },
  {
   "attachments": {},
   "cell_type": "markdown",
   "metadata": {},
   "source": [
    "**We then norrow down to the brackets s will be in:**"
   ]
  },
  {
   "cell_type": "code",
   "execution_count": 91,
   "metadata": {},
   "outputs": [
    {
     "name": "stdout",
     "output_type": "stream",
     "text": [
      "euler-error for s =   0.99999999 = 3339365168.50569391\n",
      "euler-error for s =   0.50000000 =  19.08208691\n",
      "euler-error for s =   0.25000001 = -50.88556289\n",
      "bracket to search in with opposite signed errors:\n",
      "[  0.25000001-  0.50000000]\n"
     ]
    }
   ],
   "source": [
    "s_min,s_max = find_s_bracket(par,sim,t=0,do_print=True);"
   ]
  },
  {
   "cell_type": "markdown",
   "metadata": {},
   "source": [
    "**Call root-finder:**"
   ]
  },
  {
   "cell_type": "code",
   "execution_count": 92,
   "metadata": {},
   "outputs": [
    {
     "name": "stdout",
     "output_type": "stream",
     "text": [
      "      converged: True\n",
      "           flag: 'converged'\n",
      " function_calls: 39\n",
      "     iterations: 37\n",
      "           root: 0.41666666666653274\n"
     ]
    }
   ],
   "source": [
    "obj = lambda s: calc_euler_error(s,par,sim,t=0)\n",
    "result = optimize.root_scalar(obj,bracket=(s_min,s_max),method='bisect')\n",
    "print(result)"
   ]
  },
  {
   "attachments": {},
   "cell_type": "markdown",
   "metadata": {},
   "source": [
    "**We then check the result, as we want the euler-error function to be 0. This is because the agents wants to even out their consumtion over time:**"
   ]
  },
  {
   "cell_type": "code",
   "execution_count": 93,
   "metadata": {},
   "outputs": [
    {
     "name": "stdout",
     "output_type": "stream",
     "text": [
      "euler-error = -0.00000000\n"
     ]
    }
   ],
   "source": [
    "euler_error = calc_euler_error(result.root,par,sim,t=0)\n",
    "print(f'euler-error = {euler_error:.8f}')"
   ]
  },
  {
   "cell_type": "markdown",
   "metadata": {},
   "source": [
    "### 1.4. <a id='toc1_4_'></a>[Full simulation](#toc0_)"
   ]
  },
  {
   "attachments": {},
   "cell_type": "markdown",
   "metadata": {},
   "source": [
    "We then want to simulate the model for 50 periods."
   ]
  },
  {
   "cell_type": "code",
   "execution_count": 94,
   "metadata": {},
   "outputs": [
    {
     "name": "stdout",
     "output_type": "stream",
     "text": [
      "simulation done in 0.02 secs\n"
     ]
    }
   ],
   "source": [
    "model.simulate()"
   ]
  },
  {
   "cell_type": "markdown",
   "metadata": {},
   "source": [
    "**Check euler-errors:**"
   ]
  },
  {
   "cell_type": "code",
   "execution_count": 95,
   "metadata": {},
   "outputs": [
    {
     "name": "stdout",
     "output_type": "stream",
     "text": [
      "t =  0: euler-error = -0.00000000\n",
      "t =  1: euler-error = -0.00000000\n",
      "t =  2: euler-error = -0.00000000\n",
      "t =  3: euler-error = -0.00000000\n",
      "t =  4: euler-error = 0.00000000\n"
     ]
    }
   ],
   "source": [
    "for t in range(5):\n",
    "    LHS_Euler = sim.C1[t]**(-par.sigma)\n",
    "    RHS_Euler = (1+sim.rt[t+1])*par.beta * sim.C2[t+1]**(-par.sigma)\n",
    "    print(f't = {t:2d}: euler-error = {LHS_Euler-RHS_Euler:.8f}')"
   ]
  },
  {
   "cell_type": "markdown",
   "metadata": {},
   "source": [
    "**Plot and check with analytical solution:**"
   ]
  },
  {
   "cell_type": "code",
   "execution_count": 96,
   "metadata": {},
   "outputs": [
    {
     "data": {
      "image/png": "[encoded data removed]",
      "text/plain": [
       "<Figure size 600x400 with 1 Axes>"
      ]
     },
     "metadata": {},
     "output_type": "display_data"
    }
   ],
   "source": [
    "fig = plt.figure(figsize=(6,6/1.5))\n",
    "ax = fig.add_subplot(1,1,1)\n",
    "ax.plot(model.sim.K_lag,label=r'$K_{t-1}$')\n",
    "ax.axhline(K_ss,ls='--',color='black',label='analytical steady state')\n",
    "ax.legend(frameon=True)\n",
    "fig.tight_layout()\n",
    "K_lag_old = model.sim.K_lag.copy()"
   ]
  },
  {
   "attachments": {},
   "cell_type": "markdown",
   "metadata": {},
   "source": [
    "Above we see how $K_{t-1}$ evolve over the 50 periods. It it seen that $K_{t-1}$ convert away from steady state and grow exponential."
   ]
  },
  {
   "attachments": {},
   "cell_type": "markdown",
   "metadata": {},
   "source": [
    "**Task:** Test if the starting point matters?\n",
    "\n",
    "RUn again the full simulation, but with # par.K_lag_ini = 1.9*K_ss # before the start. Now the initial kapital accumulated is over the steady state level and we should expect it to decrease overtime"
   ]
  },
  {
   "attachments": {},
   "cell_type": "markdown",
   "metadata": {},
   "source": [
    "**Now we want to check for when $\\sigma \\not= 1$ ?and with an active government?:** "
   ]
  },
  {
   "cell_type": "code",
   "execution_count": 97,
   "metadata": {},
   "outputs": [
    {
     "name": "stdout",
     "output_type": "stream",
     "text": [
      "simulation done in 0.02 secs\n"
     ]
    }
   ],
   "source": [
    "# a. production (close to cobb-douglas)\n",
    "par.production_function = 'ces'\n",
    "par.theta = 0.001\n",
    "\n",
    "# b. household (close to logarithmic)\n",
    "par.sigma = 1.1\n",
    "\n",
    "# c. goverment (weakly active)\n",
    "par.tau_w = 0.01\n",
    "par.tau_r = 0.01\n",
    "\n",
    "# d. simulate\n",
    "model.simulate()"
   ]
  },
  {
   "cell_type": "code",
   "execution_count": 98,
   "metadata": {},
   "outputs": [
    {
     "data": {
      "image/png": "[encoded data removed]",
      "text/plain": [
       "<Figure size 600x400 with 1 Axes>"
      ]
     },
     "metadata": {},
     "output_type": "display_data"
    }
   ],
   "source": [
    "fig = plt.figure(figsize=(6,6/1.5))\n",
    "ax = fig.add_subplot(1,1,1)\n",
    "ax.plot(model.sim.K_lag,label=r'$K_{t-1}$')\n",
    "ax.plot(K_lag_old,label=r'$K_{t-1}$ ($\\theta = 0.0, \\sigma = 1.0$, inactive government)')\n",
    "ax.axhline(K_ss,ls='--',color='black',label='analytical steady state (wrong)')\n",
    "ax.legend(frameon=True,fontsize=12)\n",
    "fig.tight_layout()"
   ]
  },
  {
   "cell_type": "markdown",
   "metadata": {},
   "source": [
    "## 2. <a id='toc2_'></a>[Active government](#toc0_)"
   ]
  },
  {
   "cell_type": "code",
   "execution_count": 99,
   "metadata": {},
   "outputs": [
    {
     "name": "stdout",
     "output_type": "stream",
     "text": [
      "initializing the model:\n",
      "calling .setup()\n",
      "calling .allocate()\n"
     ]
    }
   ],
   "source": [
    "model = OLGModelClass()\n",
    "par = model.par\n",
    "sim = model.sim"
   ]
  },
  {
   "cell_type": "markdown",
   "metadata": {},
   "source": [
    "**Baseline:**"
   ]
  },
  {
   "cell_type": "code",
   "execution_count": 100,
   "metadata": {},
   "outputs": [
    {
     "name": "stdout",
     "output_type": "stream",
     "text": [
      "simulation done in 0.02 secs\n"
     ]
    }
   ],
   "source": [
    "model.simulate()"
   ]
  },
  {
   "cell_type": "code",
   "execution_count": 101,
   "metadata": {},
   "outputs": [
    {
     "data": {
      "image/png": "[encoded data removed]",
      "text/plain": [
       "<Figure size 600x400 with 1 Axes>"
      ]
     },
     "metadata": {},
     "output_type": "display_data"
    }
   ],
   "source": [
    "fig = plt.figure(figsize=(6,6/1.5))\n",
    "ax = fig.add_subplot(1,1,1)\n",
    "ax.plot(sim.K_lag/(sim.Y),label=r'$\\frac{K_{t-1}}{Y_t}$')\n",
    "ax.plot(sim.B_lag/(sim.Y),label=r'$\\frac{B_{t-1}}{Y_t}$')\n",
    "ax.legend(frameon=True)\n",
    "fig.tight_layout()"
   ]
  },
  {
   "cell_type": "markdown",
   "metadata": {},
   "source": [
    "**Remember steady state:**"
   ]
  },
  {
   "cell_type": "code",
   "execution_count": 102,
   "metadata": {},
   "outputs": [],
   "source": [
    "K_ss = sim.K_lag[-1]\n",
    "B_ss = sim.B_lag[-1]\n",
    "G_ss = sim.G[-1]"
   ]
  },
  {
   "cell_type": "markdown",
   "metadata": {},
   "source": [
    "**Spending spree of 5% in $T=3$ periods:**"
   ]
  },
  {
   "cell_type": "code",
   "execution_count": 103,
   "metadata": {},
   "outputs": [],
   "source": [
    "# a. start from steady state\n",
    "par.K_lag_ini = K_ss\n",
    "par.B_lag_ini = B_ss\n",
    "\n",
    "# b. spending spree\n",
    "J = 0\n",
    "dT = 3\n",
    "sim.G[J:J+dT] = 1.05*G_ss\n",
    "sim.balanced_budget[:J] = True #G adjusts\n",
    "sim.balanced_budget[J:J+dT] = False # B adjusts\n",
    "sim.balanced_budget[J+dT:] = True # G adjusts"
   ]
  },
  {
   "cell_type": "markdown",
   "metadata": {},
   "source": [
    "**Simulate:**"
   ]
  },
  {
   "cell_type": "code",
   "execution_count": 104,
   "metadata": {},
   "outputs": [
    {
     "ename": "Exception",
     "evalue": "cannot find bracket for s",
     "output_type": "error",
     "traceback": [
      "\u001b[0;31m---------------------------------------------------------------------------\u001b[0m",
      "\u001b[0;31mException\u001b[0m                                 Traceback (most recent call last)",
      "\u001b[0;32m/var/folders/qp/ffp0pgv95z31s9m_l5n7q4y00000gn/T/ipykernel_22048/3908132593.py\u001b[0m in \u001b[0;36m<module>\u001b[0;34m\u001b[0m\n\u001b[0;32m----> 1\u001b[0;31m \u001b[0mmodel\u001b[0m\u001b[0;34m.\u001b[0m\u001b[0msimulate\u001b[0m\u001b[0;34m(\u001b[0m\u001b[0;34m)\u001b[0m\u001b[0;34m\u001b[0m\u001b[0;34m\u001b[0m\u001b[0m\n\u001b[0m",
      "\u001b[0;32m~/Desktop/pro/projects-2023-frederikke_vigh/modelproject/Overall.py\u001b[0m in \u001b[0;36msimulate\u001b[0;34m(self, do_print)\u001b[0m\n\u001b[1;32m     94\u001b[0m \u001b[0;34m\u001b[0m\u001b[0m\n\u001b[1;32m     95\u001b[0m             \u001b[0;31m# i. find bracket to search\u001b[0m\u001b[0;34m\u001b[0m\u001b[0;34m\u001b[0m\u001b[0m\n\u001b[0;32m---> 96\u001b[0;31m             \u001b[0ms_min\u001b[0m\u001b[0;34m,\u001b[0m\u001b[0ms_max\u001b[0m \u001b[0;34m=\u001b[0m \u001b[0mfind_s_bracket\u001b[0m\u001b[0;34m(\u001b[0m\u001b[0mpar\u001b[0m\u001b[0;34m,\u001b[0m\u001b[0msim\u001b[0m\u001b[0;34m,\u001b[0m\u001b[0mt\u001b[0m\u001b[0;34m)\u001b[0m\u001b[0;34m\u001b[0m\u001b[0;34m\u001b[0m\u001b[0m\n\u001b[0m\u001b[1;32m     97\u001b[0m \u001b[0;34m\u001b[0m\u001b[0m\n\u001b[1;32m     98\u001b[0m             \u001b[0;31m# ii. find optimal s\u001b[0m\u001b[0;34m\u001b[0m\u001b[0;34m\u001b[0m\u001b[0m\n",
      "\u001b[0;32m~/Desktop/pro/projects-2023-frederikke_vigh/modelproject/Overall.py\u001b[0m in \u001b[0;36mfind_s_bracket\u001b[0;34m(par, sim, t, maxiter, do_print)\u001b[0m\n\u001b[1;32m    151\u001b[0m         \u001b[0mit\u001b[0m \u001b[0;34m+=\u001b[0m \u001b[0;36m1\u001b[0m\u001b[0;34m\u001b[0m\u001b[0;34m\u001b[0m\u001b[0m\n\u001b[1;32m    152\u001b[0m \u001b[0;34m\u001b[0m\u001b[0m\n\u001b[0;32m--> 153\u001b[0;31m     \u001b[0;32mraise\u001b[0m \u001b[0mException\u001b[0m\u001b[0;34m(\u001b[0m\u001b[0;34m'cannot find bracket for s'\u001b[0m\u001b[0;34m)\u001b[0m\u001b[0;34m\u001b[0m\u001b[0;34m\u001b[0m\u001b[0m\n\u001b[0m\u001b[1;32m    154\u001b[0m \u001b[0;34m\u001b[0m\u001b[0m\n\u001b[1;32m    155\u001b[0m \u001b[0;32mdef\u001b[0m \u001b[0mcalc_euler_error\u001b[0m\u001b[0;34m(\u001b[0m\u001b[0ms\u001b[0m\u001b[0;34m,\u001b[0m\u001b[0mpar\u001b[0m\u001b[0;34m,\u001b[0m\u001b[0msim\u001b[0m\u001b[0;34m,\u001b[0m\u001b[0mt\u001b[0m\u001b[0;34m)\u001b[0m\u001b[0;34m:\u001b[0m\u001b[0;34m\u001b[0m\u001b[0;34m\u001b[0m\u001b[0m\n",
      "\u001b[0;31mException\u001b[0m: cannot find bracket for s"
     ]
    }
   ],
   "source": [
    "model.simulate()"
   ]
  },
  {
   "cell_type": "markdown",
   "metadata": {},
   "source": [
    "**Crowding-out of capital:**"
   ]
  },
  {
   "cell_type": "code",
   "execution_count": null,
   "metadata": {},
   "outputs": [],
   "source": [
    "fig = plt.figure(figsize=(6,6/1.5))\n",
    "ax = fig.add_subplot(1,1,1)\n",
    "ax.plot(sim.K/(sim.Y),label=r'$\\frac{K_{t-1}}{Y_t}$')\n",
    "ax.plot(sim.B/(sim.Y),label=r'$\\frac{B_{t-1}}{Y_t}$')\n",
    "ax.legend(frameon=True)\n",
    "fig.tight_layout()"
   ]
  },
  {
   "attachments": {},
   "cell_type": "markdown",
   "metadata": {},
   "source": [
    "**Question:** Would the households react today if the spending spree is say 10 periods in the future? \n",
    "\n",
    "No they would not, before the spending spree takes place, snce they are interested only by what happens in their own period of life."
   ]
  }
 ],
 "metadata": {
  "kernelspec": {
   "display_name": "base",
   "language": "python",
   "name": "python3"
  },
  "language_info": {
   "codemirror_mode": {
    "name": "ipython",
    "version": 3
   },
   "file_extension": ".py",
   "mimetype": "text/x-python",
   "name": "python",
   "nbconvert_exporter": "python",
   "pygments_lexer": "ipython3",
   "version": "3.9.13"
  },
  "toc-autonumbering": true,
  "vscode": {
   "interpreter": {
    "hash": "3636dfe3e3efced5924147eaeab8fa7e5204e27b435464fa03fa25953d53415b"
   }
  }
 },
 "nbformat": 4,
 "nbformat_minor": 4
}
